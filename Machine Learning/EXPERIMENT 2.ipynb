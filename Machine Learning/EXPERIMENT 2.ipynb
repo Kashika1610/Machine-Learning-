{
 "cells": [
  {
   "cell_type": "markdown",
   "metadata": {},
   "source": [
    "#      ***EXPERIMENT-2***"
   ]
  },
  {
   "cell_type": "markdown",
   "metadata": {
    "id": "TThc3Qmfl5Wg"
   },
   "source": [
    "## Data Cleaning and Pre-processing Task\n",
    "\n",
    "Fill the missing values, removing/inserting  columns, labelling the output column, feature scaling, converting the categorical values to numerical values etc."
   ]
  },
  {
   "cell_type": "markdown",
   "metadata": {
    "id": "PlnQYls-H9Wh"
   },
   "source": [
    "***Import necessary packages***"
   ]
  },
  {
   "cell_type": "code",
   "execution_count": 1,
   "metadata": {
    "executionInfo": {
     "elapsed": 1130,
     "status": "ok",
     "timestamp": 1691146572217,
     "user": {
      "displayName": "Sneha Sharma",
      "userId": "11089923055808227466"
     },
     "user_tz": -330
    },
    "id": "xU4ETfpClyi6"
   },
   "outputs": [],
   "source": [
    "import pandas as pd\n",
    "import numpy as np\n",
    "from sklearn.preprocessing import MinMaxScaler, StandardScaler, RobustScaler\n",
    "from sklearn.preprocessing import LabelEncoder\n"
   ]
  },
  {
   "cell_type": "markdown",
   "metadata": {
    "id": "Ks1ERGlAoSq0"
   },
   "source": [
    "***Create new dataset***\n",
    "\n",
    "Generate new dataset using the following information:\n",
    "\n",
    "**age**,**income**,**date**,**marital_status**,**gender**\n",
    "\n",
    "35,70000,2020-01-01,married,female\n",
    "\n",
    "41,90000,2020-01-02,single,male\n",
    "\n",
    "23,50000,2020-01-03,married,male\n",
    "\n",
    "32,60000,2020-01-04,single,female\n",
    "\n",
    "28,,2020-01-05,married,female\n",
    "\n",
    "36,75000,2020-01-06,single,male\n",
    "\n",
    "45,100000,2020-01-07,married,female\n",
    "\n",
    "39,80000,,single,male\n",
    "\n",
    "44,95000,2020-01-09,married,male\n",
    "\n",
    "29,55000,2020-01-10,single,female\n"
   ]
  },
  {
   "cell_type": "code",
   "execution_count": 2,
   "metadata": {
    "executionInfo": {
     "elapsed": 800,
     "status": "ok",
     "timestamp": 1691146576947,
     "user": {
      "displayName": "Sneha Sharma",
      "userId": "11089923055808227466"
     },
     "user_tz": -330
    },
    "id": "1K1J48ABt1yQ"
   },
   "outputs": [],
   "source": [
    "# Generate random data\n",
    "data = {\n",
    "    'age': [35,41,23,32,28,36,45,39,44,29],\n",
    "    'income': ['70000','90000','50000','60000','','75000','100000','80000','95000','55000'],\n",
    "    'date':['2020-01-01','2020-01-02','2020-01-03','2020-01-04','2020-01-05','2020-01-06','2020-01-07','','2020-01-09','2020-01-10'],\n",
    "    'marital_status':['married','single','married','single','married','single','married','single','married','single'],\n",
    "    'gender':['female','male','male','female','female','male','female','male','male','female']\n",
    "}\n",
    "\n",
    "# Convert data to a pandas dataframe and save to CSV file\n",
    "df = pd.DataFrame(data)\n",
    "df.to_csv('data.csv', index=False)"
   ]
  },
  {
   "cell_type": "markdown",
   "metadata": {
    "id": "kIwWledVoW-3"
   },
   "source": [
    "In this example, we have 5 columns: age, income, date, marital_status, and gender. The income column has a missing value, which we can use to demonstrate how to handle missing values. The marital_status and gender columns are categorical variables, which we can use to demonstrate how to convert categorical values to numerical values using one-hot encoding and label encoding."
   ]
  },
  {
   "cell_type": "markdown",
   "metadata": {
    "id": "trAm1jJgILAC"
   },
   "source": [
    "***Load dataset***"
   ]
  },
  {
   "cell_type": "code",
   "execution_count": 3,
   "metadata": {
    "colab": {
     "base_uri": "https://localhost:8080/"
    },
    "executionInfo": {
     "elapsed": 537,
     "status": "ok",
     "timestamp": 1691146580986,
     "user": {
      "displayName": "Sneha Sharma",
      "userId": "11089923055808227466"
     },
     "user_tz": -330
    },
    "id": "r4yhO0nrzX6F",
    "outputId": "0a15748d-dacf-427e-fc13-82bde1e06d5b"
   },
   "outputs": [
    {
     "name": "stdout",
     "output_type": "stream",
     "text": [
      "   age    income        date marital_status  gender\n",
      "0   35   70000.0  2020-01-01        married  female\n",
      "1   41   90000.0  2020-01-02         single    male\n",
      "2   23   50000.0  2020-01-03        married    male\n",
      "3   32   60000.0  2020-01-04         single  female\n",
      "4   28       NaN  2020-01-05        married  female\n",
      "5   36   75000.0  2020-01-06         single    male\n",
      "6   45  100000.0  2020-01-07        married  female\n",
      "7   39   80000.0         NaN         single    male\n",
      "8   44   95000.0  2020-01-09        married    male\n",
      "9   29   55000.0  2020-01-10         single  female\n"
     ]
    }
   ],
   "source": [
    "df = pd.read_csv('data.csv')\n",
    "print(df)"
   ]
  },
  {
   "cell_type": "markdown",
   "metadata": {
    "id": "orYRZNJBobWb"
   },
   "source": [
    "# Handling Missing Values\n",
    "\n",
    "*   Identify missing values in the dataset using isnull() function\n",
    "*   Use appropriate method to fill the missing values, such as:\n",
    "\n",
    "1. Mean, median or mode for numerical data\n",
    "2. Forward-fill, backward-fill or interpolation for time-series data\n",
    "3. Dropping the rows or columns with missing values if they are not significant"
   ]
  },
  {
   "cell_type": "markdown",
   "metadata": {
    "id": "OCsddVmCIRE1"
   },
   "source": [
    "***Identify missing values***\n",
    "\n",
    "Find missing values in the dataset using **isnull()** function"
   ]
  },
  {
   "cell_type": "code",
   "execution_count": 4,
   "metadata": {
    "colab": {
     "base_uri": "https://localhost:8080/"
    },
    "executionInfo": {
     "elapsed": 740,
     "status": "ok",
     "timestamp": 1691146588005,
     "user": {
      "displayName": "Sneha Sharma",
      "userId": "11089923055808227466"
     },
     "user_tz": -330
    },
    "id": "VK5HpgSLzi0Y",
    "outputId": "1a8a06ef-03d8-4762-fa61-53f29141337b"
   },
   "outputs": [
    {
     "name": "stdout",
     "output_type": "stream",
     "text": [
      "Index(['age', 'income', 'date', 'marital_status', 'gender'], dtype='object')\n",
      "age               0\n",
      "income            1\n",
      "date              1\n",
      "marital_status    0\n",
      "gender            0\n",
      "dtype: int64\n",
      "   age    income        date marital_status  gender\n",
      "0   35   70000.0  2020-01-01        married  female\n",
      "1   41   90000.0  2020-01-02         single    male\n",
      "2   23   50000.0  2020-01-03        married    male\n",
      "3   32   60000.0  2020-01-04         single  female\n",
      "4   28       NaN  2020-01-05        married  female\n",
      "5   36   75000.0  2020-01-06         single    male\n",
      "6   45  100000.0  2020-01-07        married  female\n",
      "7   39   80000.0         NaN         single    male\n",
      "8   44   95000.0  2020-01-09        married    male\n",
      "9   29   55000.0  2020-01-10         single  female\n"
     ]
    }
   ],
   "source": [
    "print(df.columns)\n",
    "print(df.isnull().sum())\n",
    "print(df)"
   ]
  },
  {
   "cell_type": "markdown",
   "metadata": {
    "id": "amayurdVIyP6"
   },
   "source": [
    "***Handle missing values***\n",
    "\n",
    "Fill missing values using mean of the particular column"
   ]
  },
  {
   "cell_type": "code",
   "execution_count": 5,
   "metadata": {
    "colab": {
     "base_uri": "https://localhost:8080/"
    },
    "executionInfo": {
     "elapsed": 491,
     "status": "ok",
     "timestamp": 1691137595413,
     "user": {
      "displayName": "Sneha Sharma",
      "userId": "11089923055808227466"
     },
     "user_tz": -330
    },
    "id": "IHL4pnY_zl6j",
    "outputId": "9db3fed5-06e9-4651-f810-ab55a56547c6"
   },
   "outputs": [
    {
     "name": "stdout",
     "output_type": "stream",
     "text": [
      "   age    income        date marital_status  gender\n",
      "0   35   70000.0  2020-01-01        married  female\n",
      "1   41   90000.0  2020-01-02         single    male\n",
      "2   23   50000.0  2020-01-03        married    male\n",
      "3   32   60000.0  2020-01-04         single  female\n",
      "4   28   75000.0  2020-01-05        married  female\n",
      "5   36   75000.0  2020-01-06         single    male\n",
      "6   45  100000.0  2020-01-07        married  female\n",
      "7   39   80000.0         NaN         single    male\n",
      "8   44   95000.0  2020-01-09        married    male\n",
      "9   29   55000.0  2020-01-10         single  female\n"
     ]
    }
   ],
   "source": [
    "df['income'].fillna(df['income'].mean(), inplace=True)\n",
    "print(df)"
   ]
  },
  {
   "cell_type": "markdown",
   "metadata": {
    "id": "K9G4CAVjJRAz"
   },
   "source": [
    "***Fill missing values using forward-fill method for time-series data***"
   ]
  },
  {
   "cell_type": "code",
   "execution_count": 30,
   "metadata": {
    "colab": {
     "base_uri": "https://localhost:8080/"
    },
    "executionInfo": {
     "elapsed": 442,
     "status": "ok",
     "timestamp": 1691137599110,
     "user": {
      "displayName": "Sneha Sharma",
      "userId": "11089923055808227466"
     },
     "user_tz": -330
    },
    "id": "HMwL1d7FzpRH",
    "outputId": "da887d61-908a-4170-ce7a-87916f3c6e6f"
   },
   "outputs": [
    {
     "name": "stdout",
     "output_type": "stream",
     "text": [
      "   income        date  marital_status  gender  age_23  age_28  age_29  age_32  \\\n",
      "0    -0.2  2020-01-01            -0.5    -0.5   False   False   False   False   \n",
      "1     0.6  2020-01-02             0.5     0.5   False   False   False   False   \n",
      "2    -1.0  2020-01-03            -0.5     0.5    True   False   False   False   \n",
      "3    -0.6  2020-01-04             0.5    -0.5   False   False   False    True   \n",
      "4     0.0  2020-01-05            -0.5    -0.5   False    True   False   False   \n",
      "5     0.0  2020-01-06             0.5     0.5   False   False   False   False   \n",
      "6     1.0  2020-01-07            -0.5    -0.5   False   False   False   False   \n",
      "7     0.2  2020-01-07             0.5     0.5   False   False   False   False   \n",
      "8     0.8  2020-01-09            -0.5     0.5   False   False   False   False   \n",
      "9    -0.8  2020-01-10             0.5    -0.5   False   False    True   False   \n",
      "\n",
      "   age_35  age_36  age_39  age_41  age_44  age_45 education_level  \n",
      "0    True   False   False   False   False   False     High School  \n",
      "1   False   False   False    True   False   False   Undergraduate  \n",
      "2   False   False   False   False   False   False        Graduate  \n",
      "3   False   False   False   False   False   False     High School  \n",
      "4   False   False   False   False   False   False   Undergraduate  \n",
      "5   False    True   False   False   False   False        Graduate  \n",
      "6   False   False   False   False   False    True     High School  \n",
      "7   False   False    True   False   False   False   Undergraduate  \n",
      "8   False   False   False   False    True   False        Graduate  \n",
      "9   False   False   False   False   False   False     High School  \n"
     ]
    }
   ],
   "source": [
    "df['date'] = df['date'].ffill() \n",
    "print(df)"
   ]
  },
  {
   "cell_type": "markdown",
   "metadata": {
    "id": "2acIsTtoJuLi"
   },
   "source": [
    "***Drop rows with missing values***"
   ]
  },
  {
   "cell_type": "code",
   "execution_count": 7,
   "metadata": {
    "colab": {
     "base_uri": "https://localhost:8080/"
    },
    "executionInfo": {
     "elapsed": 468,
     "status": "ok",
     "timestamp": 1691137602902,
     "user": {
      "displayName": "Sneha Sharma",
      "userId": "11089923055808227466"
     },
     "user_tz": -330
    },
    "id": "nDpubz2OzrmD",
    "outputId": "97d736f9-8731-4af7-e95d-68de89cdf7ba"
   },
   "outputs": [
    {
     "name": "stdout",
     "output_type": "stream",
     "text": [
      "   age    income        date marital_status  gender\n",
      "0   35   70000.0  2020-01-01        married  female\n",
      "1   41   90000.0  2020-01-02         single    male\n",
      "2   23   50000.0  2020-01-03        married    male\n",
      "3   32   60000.0  2020-01-04         single  female\n",
      "4   28   75000.0  2020-01-05        married  female\n",
      "5   36   75000.0  2020-01-06         single    male\n",
      "6   45  100000.0  2020-01-07        married  female\n",
      "7   39   80000.0  2020-01-07         single    male\n",
      "8   44   95000.0  2020-01-09        married    male\n",
      "9   29   55000.0  2020-01-10         single  female\n"
     ]
    }
   ],
   "source": [
    "df.dropna(inplace=True)\n",
    "print(df)"
   ]
  },
  {
   "cell_type": "markdown",
   "metadata": {
    "id": "Iab-uBHO0NZq"
   },
   "source": [
    "# Removing/Inserting Columns\n",
    "\n",
    "* Identify irrelevant or redundant columns in the dataset using drop() function\n",
    "* Insert new columns based on specific criteria or calculations using assign() function"
   ]
  },
  {
   "cell_type": "markdown",
   "metadata": {
    "id": "OaC6KPpTJ7eq"
   },
   "source": [
    "***Remove irrelevant column***"
   ]
  },
  {
   "cell_type": "code",
   "execution_count": 8,
   "metadata": {
    "colab": {
     "base_uri": "https://localhost:8080/"
    },
    "executionInfo": {
     "elapsed": 465,
     "status": "ok",
     "timestamp": 1691137614708,
     "user": {
      "displayName": "Sneha Sharma",
      "userId": "11089923055808227466"
     },
     "user_tz": -330
    },
    "id": "rTJuEGrM0FEr",
    "outputId": "621a8a6f-6f8d-4bca-ea9a-91e84bf258af"
   },
   "outputs": [
    {
     "name": "stdout",
     "output_type": "stream",
     "text": [
      "   age    income        date marital_status\n",
      "0   35   70000.0  2020-01-01        married\n",
      "1   41   90000.0  2020-01-02         single\n",
      "2   23   50000.0  2020-01-03        married\n",
      "3   32   60000.0  2020-01-04         single\n",
      "4   28   75000.0  2020-01-05        married\n",
      "5   36   75000.0  2020-01-06         single\n",
      "6   45  100000.0  2020-01-07        married\n",
      "7   39   80000.0  2020-01-07         single\n",
      "8   44   95000.0  2020-01-09        married\n",
      "9   29   55000.0  2020-01-10         single\n"
     ]
    }
   ],
   "source": [
    "df1 = df.drop('gender', axis=1)\n",
    "print(df1)\n"
   ]
  },
  {
   "cell_type": "markdown",
   "metadata": {
    "id": "5B12ZQqmKBOT"
   },
   "source": [
    "***Insert new column with age squared***"
   ]
  },
  {
   "cell_type": "code",
   "execution_count": 9,
   "metadata": {
    "colab": {
     "base_uri": "https://localhost:8080/"
    },
    "executionInfo": {
     "elapsed": 449,
     "status": "ok",
     "timestamp": 1691137618378,
     "user": {
      "displayName": "Sneha Sharma",
      "userId": "11089923055808227466"
     },
     "user_tz": -330
    },
    "id": "a2jde9n40fgl",
    "outputId": "3ecf9e24-caec-4ca1-bc78-492dda7def14"
   },
   "outputs": [
    {
     "name": "stdout",
     "output_type": "stream",
     "text": [
      "   age    income        date marital_status  age_squared\n",
      "0   35   70000.0  2020-01-01        married         1225\n",
      "1   41   90000.0  2020-01-02         single         1681\n",
      "2   23   50000.0  2020-01-03        married          529\n",
      "3   32   60000.0  2020-01-04         single         1024\n",
      "4   28   75000.0  2020-01-05        married          784\n",
      "5   36   75000.0  2020-01-06         single         1296\n",
      "6   45  100000.0  2020-01-07        married         2025\n",
      "7   39   80000.0  2020-01-07         single         1521\n",
      "8   44   95000.0  2020-01-09        married         1936\n",
      "9   29   55000.0  2020-01-10         single          841\n"
     ]
    }
   ],
   "source": [
    "df1 = df1.assign(age_squared=lambda x: x['age']**2)\n",
    "print(df1)\n"
   ]
  },
  {
   "cell_type": "markdown",
   "metadata": {
    "id": "OzHdBUL60n8n"
   },
   "source": [
    "# Labelling the Output Column\n",
    "\n",
    "* Identify the target variable in the dataset\n",
    "* Assign a meaningful label to the target variable column using rename() function\n"
   ]
  },
  {
   "cell_type": "markdown",
   "metadata": {
    "id": "3srTX1U8KRL4"
   },
   "source": [
    "***Rename target variable column***"
   ]
  },
  {
   "cell_type": "code",
   "execution_count": 10,
   "metadata": {
    "colab": {
     "base_uri": "https://localhost:8080/"
    },
    "executionInfo": {
     "elapsed": 534,
     "status": "ok",
     "timestamp": 1691137719562,
     "user": {
      "displayName": "Sneha Sharma",
      "userId": "11089923055808227466"
     },
     "user_tz": -330
    },
    "id": "pLjoPURt0jkv",
    "outputId": "f66cc6d6-f034-4f2e-91b8-f27f12852573"
   },
   "outputs": [
    {
     "name": "stdout",
     "output_type": "stream",
     "text": [
      "Index(['age', 'annual_income', 'date', 'marital_status', 'age_squared'], dtype='object')\n"
     ]
    }
   ],
   "source": [
    "df1 = df1.rename(columns={'income': 'annual_income'})\n",
    "print(df1.columns)\n"
   ]
  },
  {
   "cell_type": "markdown",
   "metadata": {
    "id": "nA0onJVx04tN"
   },
   "source": [
    "# Feature Scaling\n",
    "\n",
    "* Normalize the numerical features in the dataset to a common scale to avoid biased results using MinMaxScaler(), StandardScaler() or RobustScaler() functions\n"
   ]
  },
  {
   "cell_type": "markdown",
   "metadata": {
    "id": "D2snOlThKkmM"
   },
   "source": [
    "***Min-Max scaling***"
   ]
  },
  {
   "cell_type": "code",
   "execution_count": 11,
   "metadata": {
    "colab": {
     "base_uri": "https://localhost:8080/",
     "height": 363
    },
    "executionInfo": {
     "elapsed": 501,
     "status": "ok",
     "timestamp": 1691137726139,
     "user": {
      "displayName": "Sneha Sharma",
      "userId": "11089923055808227466"
     },
     "user_tz": -330
    },
    "id": "H-w6GtJu0zLw",
    "outputId": "268398f7-c8bb-43bc-d93d-c7915ce38036"
   },
   "outputs": [
    {
     "data": {
      "text/html": [
       "<div>\n",
       "<style scoped>\n",
       "    .dataframe tbody tr th:only-of-type {\n",
       "        vertical-align: middle;\n",
       "    }\n",
       "\n",
       "    .dataframe tbody tr th {\n",
       "        vertical-align: top;\n",
       "    }\n",
       "\n",
       "    .dataframe thead th {\n",
       "        text-align: right;\n",
       "    }\n",
       "</style>\n",
       "<table border=\"1\" class=\"dataframe\">\n",
       "  <thead>\n",
       "    <tr style=\"text-align: right;\">\n",
       "      <th></th>\n",
       "      <th>age</th>\n",
       "      <th>annual_income</th>\n",
       "      <th>date</th>\n",
       "      <th>marital_status</th>\n",
       "      <th>age_squared</th>\n",
       "    </tr>\n",
       "  </thead>\n",
       "  <tbody>\n",
       "    <tr>\n",
       "      <th>0</th>\n",
       "      <td>0.545455</td>\n",
       "      <td>70000.0</td>\n",
       "      <td>2020-01-01</td>\n",
       "      <td>married</td>\n",
       "      <td>1225</td>\n",
       "    </tr>\n",
       "    <tr>\n",
       "      <th>1</th>\n",
       "      <td>0.818182</td>\n",
       "      <td>90000.0</td>\n",
       "      <td>2020-01-02</td>\n",
       "      <td>single</td>\n",
       "      <td>1681</td>\n",
       "    </tr>\n",
       "    <tr>\n",
       "      <th>2</th>\n",
       "      <td>0.000000</td>\n",
       "      <td>50000.0</td>\n",
       "      <td>2020-01-03</td>\n",
       "      <td>married</td>\n",
       "      <td>529</td>\n",
       "    </tr>\n",
       "    <tr>\n",
       "      <th>3</th>\n",
       "      <td>0.409091</td>\n",
       "      <td>60000.0</td>\n",
       "      <td>2020-01-04</td>\n",
       "      <td>single</td>\n",
       "      <td>1024</td>\n",
       "    </tr>\n",
       "    <tr>\n",
       "      <th>4</th>\n",
       "      <td>0.227273</td>\n",
       "      <td>75000.0</td>\n",
       "      <td>2020-01-05</td>\n",
       "      <td>married</td>\n",
       "      <td>784</td>\n",
       "    </tr>\n",
       "    <tr>\n",
       "      <th>5</th>\n",
       "      <td>0.590909</td>\n",
       "      <td>75000.0</td>\n",
       "      <td>2020-01-06</td>\n",
       "      <td>single</td>\n",
       "      <td>1296</td>\n",
       "    </tr>\n",
       "    <tr>\n",
       "      <th>6</th>\n",
       "      <td>1.000000</td>\n",
       "      <td>100000.0</td>\n",
       "      <td>2020-01-07</td>\n",
       "      <td>married</td>\n",
       "      <td>2025</td>\n",
       "    </tr>\n",
       "    <tr>\n",
       "      <th>7</th>\n",
       "      <td>0.727273</td>\n",
       "      <td>80000.0</td>\n",
       "      <td>2020-01-07</td>\n",
       "      <td>single</td>\n",
       "      <td>1521</td>\n",
       "    </tr>\n",
       "    <tr>\n",
       "      <th>8</th>\n",
       "      <td>0.954545</td>\n",
       "      <td>95000.0</td>\n",
       "      <td>2020-01-09</td>\n",
       "      <td>married</td>\n",
       "      <td>1936</td>\n",
       "    </tr>\n",
       "    <tr>\n",
       "      <th>9</th>\n",
       "      <td>0.272727</td>\n",
       "      <td>55000.0</td>\n",
       "      <td>2020-01-10</td>\n",
       "      <td>single</td>\n",
       "      <td>841</td>\n",
       "    </tr>\n",
       "  </tbody>\n",
       "</table>\n",
       "</div>"
      ],
      "text/plain": [
       "        age  annual_income        date marital_status  age_squared\n",
       "0  0.545455        70000.0  2020-01-01        married         1225\n",
       "1  0.818182        90000.0  2020-01-02         single         1681\n",
       "2  0.000000        50000.0  2020-01-03        married          529\n",
       "3  0.409091        60000.0  2020-01-04         single         1024\n",
       "4  0.227273        75000.0  2020-01-05        married          784\n",
       "5  0.590909        75000.0  2020-01-06         single         1296\n",
       "6  1.000000       100000.0  2020-01-07        married         2025\n",
       "7  0.727273        80000.0  2020-01-07         single         1521\n",
       "8  0.954545        95000.0  2020-01-09        married         1936\n",
       "9  0.272727        55000.0  2020-01-10         single          841"
      ]
     },
     "execution_count": 11,
     "metadata": {},
     "output_type": "execute_result"
    }
   ],
   "source": [
    "scaler = MinMaxScaler()\n",
    "df1['age'] = scaler.fit_transform(df1[['age']])\n",
    "df1"
   ]
  },
  {
   "cell_type": "markdown",
   "metadata": {
    "id": "M1xK86dzKvx4"
   },
   "source": [
    "***Standard scaling***"
   ]
  },
  {
   "cell_type": "code",
   "execution_count": 12,
   "metadata": {
    "colab": {
     "base_uri": "https://localhost:8080/",
     "height": 363
    },
    "executionInfo": {
     "elapsed": 505,
     "status": "ok",
     "timestamp": 1691137980664,
     "user": {
      "displayName": "Sneha Sharma",
      "userId": "11089923055808227466"
     },
     "user_tz": -330
    },
    "id": "GkgIwXZMKzfR",
    "outputId": "e3bbca9c-5e25-4a91-91d2-5f944887e4cc"
   },
   "outputs": [
    {
     "data": {
      "text/html": [
       "<div>\n",
       "<style scoped>\n",
       "    .dataframe tbody tr th:only-of-type {\n",
       "        vertical-align: middle;\n",
       "    }\n",
       "\n",
       "    .dataframe tbody tr th {\n",
       "        vertical-align: top;\n",
       "    }\n",
       "\n",
       "    .dataframe thead th {\n",
       "        text-align: right;\n",
       "    }\n",
       "</style>\n",
       "<table border=\"1\" class=\"dataframe\">\n",
       "  <thead>\n",
       "    <tr style=\"text-align: right;\">\n",
       "      <th></th>\n",
       "      <th>age</th>\n",
       "      <th>annual_income</th>\n",
       "      <th>date</th>\n",
       "      <th>marital_status</th>\n",
       "      <th>age_squared</th>\n",
       "    </tr>\n",
       "  </thead>\n",
       "  <tbody>\n",
       "    <tr>\n",
       "      <th>0</th>\n",
       "      <td>0.545455</td>\n",
       "      <td>-0.313112</td>\n",
       "      <td>2020-01-01</td>\n",
       "      <td>married</td>\n",
       "      <td>-0.128298</td>\n",
       "    </tr>\n",
       "    <tr>\n",
       "      <th>1</th>\n",
       "      <td>0.818182</td>\n",
       "      <td>0.939336</td>\n",
       "      <td>2020-01-02</td>\n",
       "      <td>single</td>\n",
       "      <td>0.827650</td>\n",
       "    </tr>\n",
       "    <tr>\n",
       "      <th>2</th>\n",
       "      <td>0.000000</td>\n",
       "      <td>-1.565561</td>\n",
       "      <td>2020-01-03</td>\n",
       "      <td>married</td>\n",
       "      <td>-1.587378</td>\n",
       "    </tr>\n",
       "    <tr>\n",
       "      <th>3</th>\n",
       "      <td>0.409091</td>\n",
       "      <td>-0.939336</td>\n",
       "      <td>2020-01-04</td>\n",
       "      <td>single</td>\n",
       "      <td>-0.549671</td>\n",
       "    </tr>\n",
       "    <tr>\n",
       "      <th>4</th>\n",
       "      <td>0.227273</td>\n",
       "      <td>0.000000</td>\n",
       "      <td>2020-01-05</td>\n",
       "      <td>married</td>\n",
       "      <td>-1.052802</td>\n",
       "    </tr>\n",
       "    <tr>\n",
       "      <th>5</th>\n",
       "      <td>0.590909</td>\n",
       "      <td>0.000000</td>\n",
       "      <td>2020-01-06</td>\n",
       "      <td>single</td>\n",
       "      <td>0.020545</td>\n",
       "    </tr>\n",
       "    <tr>\n",
       "      <th>6</th>\n",
       "      <td>1.000000</td>\n",
       "      <td>1.565561</td>\n",
       "      <td>2020-01-07</td>\n",
       "      <td>married</td>\n",
       "      <td>1.548805</td>\n",
       "    </tr>\n",
       "    <tr>\n",
       "      <th>7</th>\n",
       "      <td>0.727273</td>\n",
       "      <td>0.313112</td>\n",
       "      <td>2020-01-07</td>\n",
       "      <td>single</td>\n",
       "      <td>0.492230</td>\n",
       "    </tr>\n",
       "    <tr>\n",
       "      <th>8</th>\n",
       "      <td>0.954545</td>\n",
       "      <td>1.252449</td>\n",
       "      <td>2020-01-09</td>\n",
       "      <td>married</td>\n",
       "      <td>1.362227</td>\n",
       "    </tr>\n",
       "    <tr>\n",
       "      <th>9</th>\n",
       "      <td>0.272727</td>\n",
       "      <td>-1.252449</td>\n",
       "      <td>2020-01-10</td>\n",
       "      <td>single</td>\n",
       "      <td>-0.933308</td>\n",
       "    </tr>\n",
       "  </tbody>\n",
       "</table>\n",
       "</div>"
      ],
      "text/plain": [
       "        age  annual_income        date marital_status  age_squared\n",
       "0  0.545455      -0.313112  2020-01-01        married    -0.128298\n",
       "1  0.818182       0.939336  2020-01-02         single     0.827650\n",
       "2  0.000000      -1.565561  2020-01-03        married    -1.587378\n",
       "3  0.409091      -0.939336  2020-01-04         single    -0.549671\n",
       "4  0.227273       0.000000  2020-01-05        married    -1.052802\n",
       "5  0.590909       0.000000  2020-01-06         single     0.020545\n",
       "6  1.000000       1.565561  2020-01-07        married     1.548805\n",
       "7  0.727273       0.313112  2020-01-07         single     0.492230\n",
       "8  0.954545       1.252449  2020-01-09        married     1.362227\n",
       "9  0.272727      -1.252449  2020-01-10         single    -0.933308"
      ]
     },
     "execution_count": 12,
     "metadata": {},
     "output_type": "execute_result"
    }
   ],
   "source": [
    "scaler = StandardScaler()\n",
    "df1[['annual_income', 'age_squared']] = scaler.fit_transform(df1[['annual_income', 'age_squared']])\n",
    "df1"
   ]
  },
  {
   "cell_type": "markdown",
   "metadata": {
    "id": "GNXvb8dO1NgX"
   },
   "source": [
    "# Converting Categorical Values to Numerical Values\n",
    "\n",
    "* Identify categorical features in the dataset\n",
    "* Use get_dummies() or LabelEncoder() functions to encode categorical values into numerical values\n"
   ]
  },
  {
   "cell_type": "markdown",
   "metadata": {
    "id": "OLqkF2jNK_4d"
   },
   "source": [
    "***One-hot encoding***"
   ]
  },
  {
   "cell_type": "code",
   "execution_count": 13,
   "metadata": {
    "colab": {
     "base_uri": "https://localhost:8080/",
     "height": 363
    },
    "id": "iXm0suYw1H3-",
    "outputId": "afcd5b60-b188-4c62-ac6c-c5c9b24afb64"
   },
   "outputs": [
    {
     "data": {
      "text/html": [
       "<div>\n",
       "<style scoped>\n",
       "    .dataframe tbody tr th:only-of-type {\n",
       "        vertical-align: middle;\n",
       "    }\n",
       "\n",
       "    .dataframe tbody tr th {\n",
       "        vertical-align: top;\n",
       "    }\n",
       "\n",
       "    .dataframe thead th {\n",
       "        text-align: right;\n",
       "    }\n",
       "</style>\n",
       "<table border=\"1\" class=\"dataframe\">\n",
       "  <thead>\n",
       "    <tr style=\"text-align: right;\">\n",
       "      <th></th>\n",
       "      <th>income</th>\n",
       "      <th>date</th>\n",
       "      <th>marital_status</th>\n",
       "      <th>gender</th>\n",
       "      <th>age_23</th>\n",
       "      <th>age_28</th>\n",
       "      <th>age_29</th>\n",
       "      <th>age_32</th>\n",
       "      <th>age_35</th>\n",
       "      <th>age_36</th>\n",
       "      <th>age_39</th>\n",
       "      <th>age_41</th>\n",
       "      <th>age_44</th>\n",
       "      <th>age_45</th>\n",
       "    </tr>\n",
       "  </thead>\n",
       "  <tbody>\n",
       "    <tr>\n",
       "      <th>0</th>\n",
       "      <td>70000.0</td>\n",
       "      <td>2020-01-01</td>\n",
       "      <td>married</td>\n",
       "      <td>female</td>\n",
       "      <td>False</td>\n",
       "      <td>False</td>\n",
       "      <td>False</td>\n",
       "      <td>False</td>\n",
       "      <td>True</td>\n",
       "      <td>False</td>\n",
       "      <td>False</td>\n",
       "      <td>False</td>\n",
       "      <td>False</td>\n",
       "      <td>False</td>\n",
       "    </tr>\n",
       "    <tr>\n",
       "      <th>1</th>\n",
       "      <td>90000.0</td>\n",
       "      <td>2020-01-02</td>\n",
       "      <td>single</td>\n",
       "      <td>male</td>\n",
       "      <td>False</td>\n",
       "      <td>False</td>\n",
       "      <td>False</td>\n",
       "      <td>False</td>\n",
       "      <td>False</td>\n",
       "      <td>False</td>\n",
       "      <td>False</td>\n",
       "      <td>True</td>\n",
       "      <td>False</td>\n",
       "      <td>False</td>\n",
       "    </tr>\n",
       "    <tr>\n",
       "      <th>2</th>\n",
       "      <td>50000.0</td>\n",
       "      <td>2020-01-03</td>\n",
       "      <td>married</td>\n",
       "      <td>male</td>\n",
       "      <td>True</td>\n",
       "      <td>False</td>\n",
       "      <td>False</td>\n",
       "      <td>False</td>\n",
       "      <td>False</td>\n",
       "      <td>False</td>\n",
       "      <td>False</td>\n",
       "      <td>False</td>\n",
       "      <td>False</td>\n",
       "      <td>False</td>\n",
       "    </tr>\n",
       "    <tr>\n",
       "      <th>3</th>\n",
       "      <td>60000.0</td>\n",
       "      <td>2020-01-04</td>\n",
       "      <td>single</td>\n",
       "      <td>female</td>\n",
       "      <td>False</td>\n",
       "      <td>False</td>\n",
       "      <td>False</td>\n",
       "      <td>True</td>\n",
       "      <td>False</td>\n",
       "      <td>False</td>\n",
       "      <td>False</td>\n",
       "      <td>False</td>\n",
       "      <td>False</td>\n",
       "      <td>False</td>\n",
       "    </tr>\n",
       "    <tr>\n",
       "      <th>4</th>\n",
       "      <td>75000.0</td>\n",
       "      <td>2020-01-05</td>\n",
       "      <td>married</td>\n",
       "      <td>female</td>\n",
       "      <td>False</td>\n",
       "      <td>True</td>\n",
       "      <td>False</td>\n",
       "      <td>False</td>\n",
       "      <td>False</td>\n",
       "      <td>False</td>\n",
       "      <td>False</td>\n",
       "      <td>False</td>\n",
       "      <td>False</td>\n",
       "      <td>False</td>\n",
       "    </tr>\n",
       "    <tr>\n",
       "      <th>5</th>\n",
       "      <td>75000.0</td>\n",
       "      <td>2020-01-06</td>\n",
       "      <td>single</td>\n",
       "      <td>male</td>\n",
       "      <td>False</td>\n",
       "      <td>False</td>\n",
       "      <td>False</td>\n",
       "      <td>False</td>\n",
       "      <td>False</td>\n",
       "      <td>True</td>\n",
       "      <td>False</td>\n",
       "      <td>False</td>\n",
       "      <td>False</td>\n",
       "      <td>False</td>\n",
       "    </tr>\n",
       "    <tr>\n",
       "      <th>6</th>\n",
       "      <td>100000.0</td>\n",
       "      <td>2020-01-07</td>\n",
       "      <td>married</td>\n",
       "      <td>female</td>\n",
       "      <td>False</td>\n",
       "      <td>False</td>\n",
       "      <td>False</td>\n",
       "      <td>False</td>\n",
       "      <td>False</td>\n",
       "      <td>False</td>\n",
       "      <td>False</td>\n",
       "      <td>False</td>\n",
       "      <td>False</td>\n",
       "      <td>True</td>\n",
       "    </tr>\n",
       "    <tr>\n",
       "      <th>7</th>\n",
       "      <td>80000.0</td>\n",
       "      <td>2020-01-07</td>\n",
       "      <td>single</td>\n",
       "      <td>male</td>\n",
       "      <td>False</td>\n",
       "      <td>False</td>\n",
       "      <td>False</td>\n",
       "      <td>False</td>\n",
       "      <td>False</td>\n",
       "      <td>False</td>\n",
       "      <td>True</td>\n",
       "      <td>False</td>\n",
       "      <td>False</td>\n",
       "      <td>False</td>\n",
       "    </tr>\n",
       "    <tr>\n",
       "      <th>8</th>\n",
       "      <td>95000.0</td>\n",
       "      <td>2020-01-09</td>\n",
       "      <td>married</td>\n",
       "      <td>male</td>\n",
       "      <td>False</td>\n",
       "      <td>False</td>\n",
       "      <td>False</td>\n",
       "      <td>False</td>\n",
       "      <td>False</td>\n",
       "      <td>False</td>\n",
       "      <td>False</td>\n",
       "      <td>False</td>\n",
       "      <td>True</td>\n",
       "      <td>False</td>\n",
       "    </tr>\n",
       "    <tr>\n",
       "      <th>9</th>\n",
       "      <td>55000.0</td>\n",
       "      <td>2020-01-10</td>\n",
       "      <td>single</td>\n",
       "      <td>female</td>\n",
       "      <td>False</td>\n",
       "      <td>False</td>\n",
       "      <td>True</td>\n",
       "      <td>False</td>\n",
       "      <td>False</td>\n",
       "      <td>False</td>\n",
       "      <td>False</td>\n",
       "      <td>False</td>\n",
       "      <td>False</td>\n",
       "      <td>False</td>\n",
       "    </tr>\n",
       "  </tbody>\n",
       "</table>\n",
       "</div>"
      ],
      "text/plain": [
       "     income        date marital_status  gender  age_23  age_28  age_29  \\\n",
       "0   70000.0  2020-01-01        married  female   False   False   False   \n",
       "1   90000.0  2020-01-02         single    male   False   False   False   \n",
       "2   50000.0  2020-01-03        married    male    True   False   False   \n",
       "3   60000.0  2020-01-04         single  female   False   False   False   \n",
       "4   75000.0  2020-01-05        married  female   False    True   False   \n",
       "5   75000.0  2020-01-06         single    male   False   False   False   \n",
       "6  100000.0  2020-01-07        married  female   False   False   False   \n",
       "7   80000.0  2020-01-07         single    male   False   False   False   \n",
       "8   95000.0  2020-01-09        married    male   False   False   False   \n",
       "9   55000.0  2020-01-10         single  female   False   False    True   \n",
       "\n",
       "   age_32  age_35  age_36  age_39  age_41  age_44  age_45  \n",
       "0   False    True   False   False   False   False   False  \n",
       "1   False   False   False   False    True   False   False  \n",
       "2   False   False   False   False   False   False   False  \n",
       "3    True   False   False   False   False   False   False  \n",
       "4   False   False   False   False   False   False   False  \n",
       "5   False   False    True   False   False   False   False  \n",
       "6   False   False   False   False   False   False    True  \n",
       "7   False   False   False    True   False   False   False  \n",
       "8   False   False   False   False   False    True   False  \n",
       "9   False   False   False   False   False   False   False  "
      ]
     },
     "execution_count": 13,
     "metadata": {},
     "output_type": "execute_result"
    }
   ],
   "source": [
    "df = pd.get_dummies(df, columns=['age'])\n",
    "df\n"
   ]
  },
  {
   "cell_type": "markdown",
   "metadata": {
    "id": "P8CYwKifLNl9"
   },
   "source": [
    "***Label encoding***"
   ]
  },
  {
   "cell_type": "code",
   "execution_count": 14,
   "metadata": {
    "colab": {
     "base_uri": "https://localhost:8080/",
     "height": 363
    },
    "executionInfo": {
     "elapsed": 474,
     "status": "ok",
     "timestamp": 1691138664345,
     "user": {
      "displayName": "Sneha Sharma",
      "userId": "11089923055808227466"
     },
     "user_tz": -330
    },
    "id": "43qreBEOLROv",
    "outputId": "956cfe21-f2bb-4459-9650-28fbf3921b3a"
   },
   "outputs": [
    {
     "data": {
      "text/html": [
       "<div>\n",
       "<style scoped>\n",
       "    .dataframe tbody tr th:only-of-type {\n",
       "        vertical-align: middle;\n",
       "    }\n",
       "\n",
       "    .dataframe tbody tr th {\n",
       "        vertical-align: top;\n",
       "    }\n",
       "\n",
       "    .dataframe thead th {\n",
       "        text-align: right;\n",
       "    }\n",
       "</style>\n",
       "<table border=\"1\" class=\"dataframe\">\n",
       "  <thead>\n",
       "    <tr style=\"text-align: right;\">\n",
       "      <th></th>\n",
       "      <th>income</th>\n",
       "      <th>date</th>\n",
       "      <th>marital_status</th>\n",
       "      <th>gender</th>\n",
       "      <th>age_23</th>\n",
       "      <th>age_28</th>\n",
       "      <th>age_29</th>\n",
       "      <th>age_32</th>\n",
       "      <th>age_35</th>\n",
       "      <th>age_36</th>\n",
       "      <th>age_39</th>\n",
       "      <th>age_41</th>\n",
       "      <th>age_44</th>\n",
       "      <th>age_45</th>\n",
       "    </tr>\n",
       "  </thead>\n",
       "  <tbody>\n",
       "    <tr>\n",
       "      <th>0</th>\n",
       "      <td>70000.0</td>\n",
       "      <td>2020-01-01</td>\n",
       "      <td>0</td>\n",
       "      <td>0</td>\n",
       "      <td>False</td>\n",
       "      <td>False</td>\n",
       "      <td>False</td>\n",
       "      <td>False</td>\n",
       "      <td>True</td>\n",
       "      <td>False</td>\n",
       "      <td>False</td>\n",
       "      <td>False</td>\n",
       "      <td>False</td>\n",
       "      <td>False</td>\n",
       "    </tr>\n",
       "    <tr>\n",
       "      <th>1</th>\n",
       "      <td>90000.0</td>\n",
       "      <td>2020-01-02</td>\n",
       "      <td>1</td>\n",
       "      <td>1</td>\n",
       "      <td>False</td>\n",
       "      <td>False</td>\n",
       "      <td>False</td>\n",
       "      <td>False</td>\n",
       "      <td>False</td>\n",
       "      <td>False</td>\n",
       "      <td>False</td>\n",
       "      <td>True</td>\n",
       "      <td>False</td>\n",
       "      <td>False</td>\n",
       "    </tr>\n",
       "    <tr>\n",
       "      <th>2</th>\n",
       "      <td>50000.0</td>\n",
       "      <td>2020-01-03</td>\n",
       "      <td>0</td>\n",
       "      <td>1</td>\n",
       "      <td>True</td>\n",
       "      <td>False</td>\n",
       "      <td>False</td>\n",
       "      <td>False</td>\n",
       "      <td>False</td>\n",
       "      <td>False</td>\n",
       "      <td>False</td>\n",
       "      <td>False</td>\n",
       "      <td>False</td>\n",
       "      <td>False</td>\n",
       "    </tr>\n",
       "    <tr>\n",
       "      <th>3</th>\n",
       "      <td>60000.0</td>\n",
       "      <td>2020-01-04</td>\n",
       "      <td>1</td>\n",
       "      <td>0</td>\n",
       "      <td>False</td>\n",
       "      <td>False</td>\n",
       "      <td>False</td>\n",
       "      <td>True</td>\n",
       "      <td>False</td>\n",
       "      <td>False</td>\n",
       "      <td>False</td>\n",
       "      <td>False</td>\n",
       "      <td>False</td>\n",
       "      <td>False</td>\n",
       "    </tr>\n",
       "    <tr>\n",
       "      <th>4</th>\n",
       "      <td>75000.0</td>\n",
       "      <td>2020-01-05</td>\n",
       "      <td>0</td>\n",
       "      <td>0</td>\n",
       "      <td>False</td>\n",
       "      <td>True</td>\n",
       "      <td>False</td>\n",
       "      <td>False</td>\n",
       "      <td>False</td>\n",
       "      <td>False</td>\n",
       "      <td>False</td>\n",
       "      <td>False</td>\n",
       "      <td>False</td>\n",
       "      <td>False</td>\n",
       "    </tr>\n",
       "    <tr>\n",
       "      <th>5</th>\n",
       "      <td>75000.0</td>\n",
       "      <td>2020-01-06</td>\n",
       "      <td>1</td>\n",
       "      <td>1</td>\n",
       "      <td>False</td>\n",
       "      <td>False</td>\n",
       "      <td>False</td>\n",
       "      <td>False</td>\n",
       "      <td>False</td>\n",
       "      <td>True</td>\n",
       "      <td>False</td>\n",
       "      <td>False</td>\n",
       "      <td>False</td>\n",
       "      <td>False</td>\n",
       "    </tr>\n",
       "    <tr>\n",
       "      <th>6</th>\n",
       "      <td>100000.0</td>\n",
       "      <td>2020-01-07</td>\n",
       "      <td>0</td>\n",
       "      <td>0</td>\n",
       "      <td>False</td>\n",
       "      <td>False</td>\n",
       "      <td>False</td>\n",
       "      <td>False</td>\n",
       "      <td>False</td>\n",
       "      <td>False</td>\n",
       "      <td>False</td>\n",
       "      <td>False</td>\n",
       "      <td>False</td>\n",
       "      <td>True</td>\n",
       "    </tr>\n",
       "    <tr>\n",
       "      <th>7</th>\n",
       "      <td>80000.0</td>\n",
       "      <td>2020-01-07</td>\n",
       "      <td>1</td>\n",
       "      <td>1</td>\n",
       "      <td>False</td>\n",
       "      <td>False</td>\n",
       "      <td>False</td>\n",
       "      <td>False</td>\n",
       "      <td>False</td>\n",
       "      <td>False</td>\n",
       "      <td>True</td>\n",
       "      <td>False</td>\n",
       "      <td>False</td>\n",
       "      <td>False</td>\n",
       "    </tr>\n",
       "    <tr>\n",
       "      <th>8</th>\n",
       "      <td>95000.0</td>\n",
       "      <td>2020-01-09</td>\n",
       "      <td>0</td>\n",
       "      <td>1</td>\n",
       "      <td>False</td>\n",
       "      <td>False</td>\n",
       "      <td>False</td>\n",
       "      <td>False</td>\n",
       "      <td>False</td>\n",
       "      <td>False</td>\n",
       "      <td>False</td>\n",
       "      <td>False</td>\n",
       "      <td>True</td>\n",
       "      <td>False</td>\n",
       "    </tr>\n",
       "    <tr>\n",
       "      <th>9</th>\n",
       "      <td>55000.0</td>\n",
       "      <td>2020-01-10</td>\n",
       "      <td>1</td>\n",
       "      <td>0</td>\n",
       "      <td>False</td>\n",
       "      <td>False</td>\n",
       "      <td>True</td>\n",
       "      <td>False</td>\n",
       "      <td>False</td>\n",
       "      <td>False</td>\n",
       "      <td>False</td>\n",
       "      <td>False</td>\n",
       "      <td>False</td>\n",
       "      <td>False</td>\n",
       "    </tr>\n",
       "  </tbody>\n",
       "</table>\n",
       "</div>"
      ],
      "text/plain": [
       "     income        date  marital_status  gender  age_23  age_28  age_29  \\\n",
       "0   70000.0  2020-01-01               0       0   False   False   False   \n",
       "1   90000.0  2020-01-02               1       1   False   False   False   \n",
       "2   50000.0  2020-01-03               0       1    True   False   False   \n",
       "3   60000.0  2020-01-04               1       0   False   False   False   \n",
       "4   75000.0  2020-01-05               0       0   False    True   False   \n",
       "5   75000.0  2020-01-06               1       1   False   False   False   \n",
       "6  100000.0  2020-01-07               0       0   False   False   False   \n",
       "7   80000.0  2020-01-07               1       1   False   False   False   \n",
       "8   95000.0  2020-01-09               0       1   False   False   False   \n",
       "9   55000.0  2020-01-10               1       0   False   False    True   \n",
       "\n",
       "   age_32  age_35  age_36  age_39  age_41  age_44  age_45  \n",
       "0   False    True   False   False   False   False   False  \n",
       "1   False   False   False   False    True   False   False  \n",
       "2   False   False   False   False   False   False   False  \n",
       "3    True   False   False   False   False   False   False  \n",
       "4   False   False   False   False   False   False   False  \n",
       "5   False   False    True   False   False   False   False  \n",
       "6   False   False   False   False   False   False    True  \n",
       "7   False   False   False    True   False   False   False  \n",
       "8   False   False   False   False   False    True   False  \n",
       "9   False   False   False   False   False   False   False  "
      ]
     },
     "execution_count": 14,
     "metadata": {},
     "output_type": "execute_result"
    }
   ],
   "source": [
    "le = LabelEncoder()\n",
    "df[['marital_status', 'gender']] = df[['marital_status', 'gender']].apply(le.fit_transform)\n",
    "df"
   ]
  },
  {
   "cell_type": "markdown",
   "metadata": {
    "id": "c6qreNep1fnM"
   },
   "source": [
    "These are some of the common data cleaning and pre-processing tasks that you might encounter in your data analysis and machine learning projects. By performing these tasks, you can ensure that your data is clean, consistent, and ready for analysis or model training."
   ]
  },
  {
   "cell_type": "markdown",
   "metadata": {},
   "source": [
    "### Further Instructions :"
   ]
  },
  {
   "cell_type": "markdown",
   "metadata": {},
   "source": [
    "Robust Scaler Implementation\n",
    "Normalize the numeric features using RobustScaler, which is robust to outliers. It scales features using statistics like median and interquartile range.\n"
   ]
  },
  {
   "cell_type": "markdown",
   "metadata": {},
   "source": [
    "Backward Fill for Missing Data\n",
    "Handle missing values by performing a backward fill (bfill), which propagates the next valid observation backward.\n",
    "\n"
   ]
  },
  {
   "cell_type": "markdown",
   "metadata": {},
   "source": [
    "Add a New Categorical Column\n",
    "Add a column education_level to represent categorical educational data, such as High School, Undergraduate, and Graduate.\n",
    "One-Hot Encoding"
   ]
  },
  {
   "cell_type": "markdown",
   "metadata": {},
   "source": [
    "Convert the new categorical column into numerical format using one-hot encoding to enable its use in machine learning models."
   ]
  },
  {
   "cell_type": "markdown",
   "metadata": {},
   "source": [
    "### Step 1: Import Libraries And View Data"
   ]
  },
  {
   "cell_type": "code",
   "execution_count": 21,
   "metadata": {},
   "outputs": [
    {
     "name": "stdout",
     "output_type": "stream",
     "text": [
      "Original DataFrame:\n",
      "     income        date  marital_status  gender  age_23  age_28  age_29  \\\n",
      "0   70000.0  2020-01-01               0       0   False   False   False   \n",
      "1   90000.0  2020-01-02               1       1   False   False   False   \n",
      "2   50000.0  2020-01-03               0       1    True   False   False   \n",
      "3   60000.0  2020-01-04               1       0   False   False   False   \n",
      "4   75000.0  2020-01-05               0       0   False    True   False   \n",
      "5   75000.0  2020-01-06               1       1   False   False   False   \n",
      "6  100000.0  2020-01-07               0       0   False   False   False   \n",
      "7   80000.0  2020-01-07               1       1   False   False   False   \n",
      "8   95000.0  2020-01-09               0       1   False   False   False   \n",
      "9   55000.0  2020-01-10               1       0   False   False    True   \n",
      "\n",
      "   age_32  age_35  age_36  age_39  age_41  age_44  age_45  \n",
      "0   False    True   False   False   False   False   False  \n",
      "1   False   False   False   False    True   False   False  \n",
      "2   False   False   False   False   False   False   False  \n",
      "3    True   False   False   False   False   False   False  \n",
      "4   False   False   False   False   False   False   False  \n",
      "5   False   False    True   False   False   False   False  \n",
      "6   False   False   False   False   False   False    True  \n",
      "7   False   False   False    True   False   False   False  \n",
      "8   False   False   False   False   False    True   False  \n",
      "9   False   False   False   False   False   False   False  \n"
     ]
    }
   ],
   "source": [
    "import pandas as pd\n",
    "from sklearn.preprocessing import RobustScaler\n",
    "\n",
    "print(\"Original DataFrame:\")\n",
    "print(df)\n"
   ]
  },
  {
   "cell_type": "markdown",
   "metadata": {},
   "source": [
    "### Step 2: Handle Missing Data with Backward Fill"
   ]
  },
  {
   "cell_type": "code",
   "execution_count": 19,
   "metadata": {},
   "outputs": [
    {
     "name": "stdout",
     "output_type": "stream",
     "text": [
      "DataFrame after Backward Fill:\n",
      "     income        date  marital_status  gender  age_23  age_28  age_29  \\\n",
      "0   70000.0  2020-01-01               0       0   False   False   False   \n",
      "1   90000.0  2020-01-02               1       1   False   False   False   \n",
      "2   50000.0  2020-01-03               0       1    True   False   False   \n",
      "3   60000.0  2020-01-04               1       0   False   False   False   \n",
      "4   75000.0  2020-01-05               0       0   False    True   False   \n",
      "5   75000.0  2020-01-06               1       1   False   False   False   \n",
      "6  100000.0  2020-01-07               0       0   False   False   False   \n",
      "7   80000.0  2020-01-07               1       1   False   False   False   \n",
      "8   95000.0  2020-01-09               0       1   False   False   False   \n",
      "9   55000.0  2020-01-10               1       0   False   False    True   \n",
      "\n",
      "   age_32  age_35  age_36  age_39  age_41  age_44  age_45  \n",
      "0   False    True   False   False   False   False   False  \n",
      "1   False   False   False   False    True   False   False  \n",
      "2   False   False   False   False   False   False   False  \n",
      "3    True   False   False   False   False   False   False  \n",
      "4   False   False   False   False   False   False   False  \n",
      "5   False   False    True   False   False   False   False  \n",
      "6   False   False   False   False   False   False    True  \n",
      "7   False   False   False    True   False   False   False  \n",
      "8   False   False   False   False   False    True   False  \n",
      "9   False   False   False   False   False   False   False  \n"
     ]
    }
   ],
   "source": [
    "df = df.bfill()\n",
    "\n",
    "print(\"DataFrame after Backward Fill:\")\n",
    "print(df)\n"
   ]
  },
  {
   "cell_type": "markdown",
   "metadata": {},
   "source": [
    "### Step 3: Apply Robust Scaler to Numeric Features"
   ]
  },
  {
   "cell_type": "code",
   "execution_count": 23,
   "metadata": {},
   "outputs": [
    {
     "name": "stdout",
     "output_type": "stream",
     "text": [
      "DataFrame after Robust Scaling:\n",
      "   income        date  marital_status  gender  age_23  age_28  age_29  age_32  \\\n",
      "0    -0.2  2020-01-01            -0.5    -0.5   False   False   False   False   \n",
      "1     0.6  2020-01-02             0.5     0.5   False   False   False   False   \n",
      "2    -1.0  2020-01-03            -0.5     0.5    True   False   False   False   \n",
      "3    -0.6  2020-01-04             0.5    -0.5   False   False   False    True   \n",
      "4     0.0  2020-01-05            -0.5    -0.5   False    True   False   False   \n",
      "\n",
      "   age_35  age_36  age_39  age_41  age_44  age_45  \n",
      "0    True   False   False   False   False   False  \n",
      "1   False   False   False    True   False   False  \n",
      "2   False   False   False   False   False   False  \n",
      "3   False   False   False   False   False   False  \n",
      "4   False   False   False   False   False   False  \n"
     ]
    }
   ],
   "source": [
    "from sklearn.preprocessing import RobustScaler\n",
    "numeric_features = df.select_dtypes(include=['float64', 'int64']).columns\n",
    "\n",
    "scaler = RobustScaler()\n",
    "df[numeric_features] = scaler.fit_transform(df[numeric_features])\n",
    "\n",
    "print(\"DataFrame after Robust Scaling:\")\n",
    "print(df.head())  \n",
    "\n"
   ]
  },
  {
   "cell_type": "markdown",
   "metadata": {},
   "source": [
    "### Step 4: Add a New Categorical Column"
   ]
  },
  {
   "cell_type": "code",
   "execution_count": 28,
   "metadata": {},
   "outputs": [
    {
     "name": "stdout",
     "output_type": "stream",
     "text": [
      "DataFrame with Education Level Column:\n",
      "   income        date  marital_status  gender  age_23  age_28  age_29  age_32  \\\n",
      "0    -0.2  2020-01-01            -0.5    -0.5   False   False   False   False   \n",
      "1     0.6  2020-01-02             0.5     0.5   False   False   False   False   \n",
      "2    -1.0  2020-01-03            -0.5     0.5    True   False   False   False   \n",
      "3    -0.6  2020-01-04             0.5    -0.5   False   False   False    True   \n",
      "4     0.0  2020-01-05            -0.5    -0.5   False    True   False   False   \n",
      "\n",
      "   age_35  age_36  age_39  age_41  age_44  age_45 education_level  \n",
      "0    True   False   False   False   False   False     High School  \n",
      "1   False   False   False    True   False   False   Undergraduate  \n",
      "2   False   False   False   False   False   False        Graduate  \n",
      "3   False   False   False   False   False   False     High School  \n",
      "4   False   False   False   False   False   False   Undergraduate  \n"
     ]
    }
   ],
   "source": [
    "df['education_level'] = ['High School', 'Undergraduate', 'Graduate'] * (len(df) // 3) + ['High School'][:len(df) % 3]\n",
    "\n",
    "print(\"DataFrame with Education Level Column:\")\n",
    "print(df.head()) \n"
   ]
  },
  {
   "cell_type": "markdown",
   "metadata": {},
   "source": [
    "### Step 5: Perform One-Hot Encoding"
   ]
  },
  {
   "cell_type": "code",
   "execution_count": 29,
   "metadata": {},
   "outputs": [
    {
     "name": "stdout",
     "output_type": "stream",
     "text": [
      "DataFrame after One-Hot Encoding:\n",
      "   income        date  marital_status  gender  age_23  age_28  age_29  age_32  \\\n",
      "0    -0.2  2020-01-01            -0.5    -0.5   False   False   False   False   \n",
      "1     0.6  2020-01-02             0.5     0.5   False   False   False   False   \n",
      "2    -1.0  2020-01-03            -0.5     0.5    True   False   False   False   \n",
      "3    -0.6  2020-01-04             0.5    -0.5   False   False   False    True   \n",
      "4     0.0  2020-01-05            -0.5    -0.5   False    True   False   False   \n",
      "\n",
      "   age_35  age_36  age_39  age_41  age_44  age_45  education_level_Graduate  \\\n",
      "0    True   False   False   False   False   False                     False   \n",
      "1   False   False   False    True   False   False                     False   \n",
      "2   False   False   False   False   False   False                      True   \n",
      "3   False   False   False   False   False   False                     False   \n",
      "4   False   False   False   False   False   False                     False   \n",
      "\n",
      "   education_level_High School  education_level_Undergraduate  \n",
      "0                         True                          False  \n",
      "1                        False                           True  \n",
      "2                        False                          False  \n",
      "3                         True                          False  \n",
      "4                        False                           True  \n"
     ]
    }
   ],
   "source": [
    "df_encoded = pd.get_dummies(df, columns=['education_level'])\n",
    "print(\"DataFrame after One-Hot Encoding:\")\n",
    "print(df_encoded.head())  \n"
   ]
  },
  {
   "cell_type": "code",
   "execution_count": null,
   "metadata": {},
   "outputs": [],
   "source": []
  }
 ],
 "metadata": {
  "colab": {
   "provenance": []
  },
  "kernelspec": {
   "display_name": "Python 3 (ipykernel)",
   "language": "python",
   "name": "python3"
  },
  "language_info": {
   "codemirror_mode": {
    "name": "ipython",
    "version": 3
   },
   "file_extension": ".py",
   "mimetype": "text/x-python",
   "name": "python",
   "nbconvert_exporter": "python",
   "pygments_lexer": "ipython3",
   "version": "3.11.7"
  }
 },
 "nbformat": 4,
 "nbformat_minor": 4
}
