{
 "cells": [
  {
   "cell_type": "code",
   "execution_count": 1,
   "id": "46219e5d-2729-4df2-9c0b-6ece2b828a02",
   "metadata": {},
   "outputs": [],
   "source": [
    "import numpy as np\n",
    "from tensorflow.keras.layers import SimpleRNN,Embedding,Dense\n",
    "from tensorflow.keras.models import Sequential"
   ]
  },
  {
   "cell_type": "code",
   "execution_count": 2,
   "id": "908ca60c-ebc4-4986-883f-c107d59672c5",
   "metadata": {},
   "outputs": [],
   "source": [
    "num_sequence = 1000\n",
    "sequence_length = 100\n",
    "vocab_size = 50"
   ]
  },
  {
   "cell_type": "code",
   "execution_count": 4,
   "id": "c5d2ba0c-af6d-4c5d-9a49-20e60e768dc8",
   "metadata": {},
   "outputs": [],
   "source": [
    "X=np.random.randint(0,vocab_size,size=(num_sequence,sequence_length))\n",
    "y=np.random.randint(0,vocab_size,size=(num_sequence,))"
   ]
  },
  {
   "cell_type": "code",
   "execution_count": 5,
   "id": "a7844e4a-b5ae-49ba-ac80-9f228a2cde1f",
   "metadata": {},
   "outputs": [
    {
     "name": "stderr",
     "output_type": "stream",
     "text": [
      "/opt/anaconda3/lib/python3.11/site-packages/keras/src/layers/core/embedding.py:90: UserWarning: Argument `input_length` is deprecated. Just remove it.\n",
      "  warnings.warn(\n"
     ]
    }
   ],
   "source": [
    "model=Sequential([\n",
    "    Embedding(input_dim=vocab_size,output_dim=32,input_length=sequence_length),\n",
    "    SimpleRNN(64,activation='tanh'),\n",
    "    Dense(vocab_size,activation='softmax')])"
   ]
  },
  {
   "cell_type": "code",
   "execution_count": null,
   "id": "e008dfb1-8c1d-4bb7-9aa3-b02b4d9e8f47",
   "metadata": {},
   "outputs": [],
   "source": [
    "model.compile(loss='sparse_categorical_crossentropy',"
   ]
  }
 ],
 "metadata": {
  "kernelspec": {
   "display_name": "Python 3 (ipykernel)",
   "language": "python",
   "name": "python3"
  },
  "language_info": {
   "codemirror_mode": {
    "name": "ipython",
    "version": 3
   },
   "file_extension": ".py",
   "mimetype": "text/x-python",
   "name": "python",
   "nbconvert_exporter": "python",
   "pygments_lexer": "ipython3",
   "version": "3.11.7"
  }
 },
 "nbformat": 4,
 "nbformat_minor": 5
}
