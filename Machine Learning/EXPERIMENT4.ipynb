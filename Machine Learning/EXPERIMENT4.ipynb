{
 "cells": [
  {
   "cell_type": "markdown",
   "id": "37119180-b541-4da4-afd6-a368229af1a2",
   "metadata": {},
   "source": [
    "# ***EXPERIMENT-4***"
   ]
  },
  {
   "cell_type": "markdown",
   "id": "63d423c0-041e-4ccd-afc7-52ebefbd2ae2",
   "metadata": {},
   "source": [
    "### **Multiple Linear Regression**"
   ]
  },
  {
   "cell_type": "markdown",
   "id": "2b3ffa39-7901-4edb-8db9-24602aab07c1",
   "metadata": {},
   "source": [
    "Multiple linear regression extends the concept of simple linear regression by modeling the relationship between a dependent variable (Y) and two or more independent variables (X₁, X₂, ..., Xₙ). It assumes a linear relationship between the dependent variable and the independent variables."
   ]
  },
  {
   "cell_type": "markdown",
   "id": "f57a5df1-2f61-44fc-bc49-3e100359cc17",
   "metadata": {},
   "source": [
    "### **Polynomial Regression**"
   ]
  },
  {
   "cell_type": "markdown",
   "id": "d30ace12-692a-4094-afd2-7bffbb42e126",
   "metadata": {},
   "source": [
    "Polynomial regression is a type of regression analysis where the relationship between the independent variable X and the dependent variable \n",
    "Y is modeled as an n-th degree polynomial. It is useful for capturing non-linear relationships.\n"
   ]
  },
  {
   "cell_type": "markdown",
   "id": "0a473f73-26f0-4904-9101-5694f4ca7fc2",
   "metadata": {},
   "source": [
    "### **Cross-Validation**"
   ]
  },
  {
   "cell_type": "markdown",
   "id": "c8da7a82-7538-49e8-bb8e-7a51a5f2ef75",
   "metadata": {},
   "source": [
    "Cross-validation is a statistical method used to evaluate the performance of a model by partitioning the data into training and testing subsets. It helps assess how well the model generalizes to unseen data and prevents overfitting.\n",
    "### *Types of Cross-Validation:*\n",
    "### *K-Fold Cross-Validation*:\n",
    "Divides the dataset into K subsets (folds) and trains the model on K−1 folds while testing on the remaining fold. This process is repeated \n",
    "K times.\n",
    "### *Leave-One-Out Cross-Validation (LOOCV)*:\n",
    "A special case of K-fold cross-validation where. K is equal to the number of data points.\n",
    "### *Stratified* \n",
    "K-Fold Cross-Validation: Similar to K-fold, but ensures each fold has a proportional representation of target classes.\n",
    "The average performance metric (e.g., accuracy, RMSE) from all iterations is used to evaluate the model.\n"
   ]
  },
  {
   "cell_type": "markdown",
   "id": "6d9c7aaf-c43d-42b8-a609-f1d952604d5b",
   "metadata": {},
   "source": [
    " ***Importing Libraries***"
   ]
  },
  {
   "cell_type": "code",
   "execution_count": 10,
   "id": "4b7afa0b-eedd-413b-8cca-335b90a8010c",
   "metadata": {},
   "outputs": [],
   "source": [
    "import numpy as np\n",
    "import pandas as pd\n",
    "from sklearn.model_selection import train_test_split, cross_val_score\n",
    "from sklearn.linear_model import LinearRegression\n",
    "from sklearn.metrics import mean_absolute_error, r2_score\n",
    "from sklearn.preprocessing import PolynomialFeatures\n",
    "from sklearn.pipeline import Pipeline"
   ]
  },
  {
   "cell_type": "markdown",
   "id": "46e89318-e32b-4b74-abe2-07183e41e929",
   "metadata": {},
   "source": [
    "***Data Reading***"
   ]
  },
  {
   "cell_type": "code",
   "execution_count": 12,
   "id": "f0fa9638-ee8d-4c19-9e01-cc4f2438e731",
   "metadata": {},
   "outputs": [
    {
     "name": "stdout",
     "output_type": "stream",
     "text": [
      "        TV  Radio  Newspaper  Sales\n",
      "0    230.1   37.8       69.2   22.1\n",
      "1     44.5   39.3       45.1   10.4\n",
      "2     17.2   45.9       69.3   12.0\n",
      "3    151.5   41.3       58.5   16.5\n",
      "4    180.8   10.8       58.4   17.9\n",
      "..     ...    ...        ...    ...\n",
      "195   38.2    3.7       13.8    7.6\n",
      "196   94.2    4.9        8.1   14.0\n",
      "197  177.0    9.3        6.4   14.8\n",
      "198  283.6   42.0       66.2   25.5\n",
      "199  232.1    8.6        8.7   18.4\n",
      "\n",
      "[200 rows x 4 columns]\n"
     ]
    }
   ],
   "source": [
    "df = \"advertising.csv\"\n",
    "data = pd.read_csv(df)\n",
    "data = pd.DataFrame(data)\n",
    "print(data)"
   ]
  },
  {
   "cell_type": "code",
   "execution_count": 14,
   "id": "07e8f9cb-1c45-4823-8e3f-46f7aa3b15dd",
   "metadata": {},
   "outputs": [
    {
     "name": "stdout",
     "output_type": "stream",
     "text": [
      "<class 'pandas.core.frame.DataFrame'>\n",
      "RangeIndex: 200 entries, 0 to 199\n",
      "Data columns (total 4 columns):\n",
      " #   Column     Non-Null Count  Dtype  \n",
      "---  ------     --------------  -----  \n",
      " 0   TV         200 non-null    float64\n",
      " 1   Radio      200 non-null    float64\n",
      " 2   Newspaper  200 non-null    float64\n",
      " 3   Sales      200 non-null    float64\n",
      "dtypes: float64(4)\n",
      "memory usage: 6.4 KB\n"
     ]
    }
   ],
   "source": [
    "data.shape\n",
    "data.info()"
   ]
  },
  {
   "cell_type": "markdown",
   "id": "3bc8d81e-1184-46ec-a94b-644c550e2f60",
   "metadata": {},
   "source": [
    "***Data Cleaning***"
   ]
  },
  {
   "cell_type": "code",
   "execution_count": 17,
   "id": "f8281ed5-0d7b-43c9-9094-0d820a8d29b6",
   "metadata": {},
   "outputs": [
    {
     "data": {
      "text/plain": [
       "TV           0.0\n",
       "Radio        0.0\n",
       "Newspaper    0.0\n",
       "Sales        0.0\n",
       "dtype: float64"
      ]
     },
     "execution_count": 17,
     "metadata": {},
     "output_type": "execute_result"
    }
   ],
   "source": [
    "data.isnull().sum()*100/data.shape[0]\n"
   ]
  },
  {
   "cell_type": "markdown",
   "id": "df4e56e0-323c-4015-99da-a18d141c96c3",
   "metadata": {},
   "source": [
    "***Correlation between columns***"
   ]
  },
  {
   "cell_type": "code",
   "execution_count": 20,
   "id": "d84ce5a0-a96f-44a3-b98e-a4562035c8e9",
   "metadata": {},
   "outputs": [
    {
     "data": {
      "text/plain": [
       "<Axes: >"
      ]
     },
     "execution_count": 20,
     "metadata": {},
     "output_type": "execute_result"
    },
    {
     "data": {
      "image/png": "[encoded data removed]",
      "text/plain": [
       "<Figure size 640x480 with 2 Axes>"
      ]
     },
     "metadata": {},
     "output_type": "display_data"
    }
   ],
   "source": [
    "import seaborn as sns\n",
    "sns.heatmap(data.corr(),annot = True)"
   ]
  },
  {
   "cell_type": "markdown",
   "id": "94324dc2-a4ba-45a7-af19-0968470cbec8",
   "metadata": {},
   "source": [
    "***Split the data into predictors (X) and target (y)***"
   ]
  },
  {
   "cell_type": "code",
   "execution_count": 21,
   "id": "352c857c-f44c-4c2c-b099-38e169a52bfd",
   "metadata": {},
   "outputs": [],
   "source": [
    "X = data[[\"TV\", \"Radio\", \"Newspaper\"]]\n",
    "y = data[\"Sales\"]"
   ]
  },
  {
   "cell_type": "markdown",
   "id": "aae11c3a-0187-4a95-a50e-c146a90357b5",
   "metadata": {},
   "source": [
    "***Split the data into training and testing sets***"
   ]
  },
  {
   "cell_type": "code",
   "execution_count": 22,
   "id": "c1ac4632-8299-4b97-bf6e-f662107ad967",
   "metadata": {},
   "outputs": [],
   "source": [
    "X_train, X_test, y_train, y_test = train_test_split(X, y, test_size=0.2, random_state=42)"
   ]
  },
  {
   "cell_type": "markdown",
   "id": "f16a78ff-7364-43cb-b79d-b26f52e2dbfe",
   "metadata": {},
   "source": [
    "### ***Multiple Linear Regression***"
   ]
  },
  {
   "cell_type": "code",
   "execution_count": 25,
   "id": "715c214b-b1d4-458e-9472-54ee038dd587",
   "metadata": {},
   "outputs": [
    {
     "data": {
      "text/html": [
       "<style>#sk-container-id-2 {color: black;background-color: white;}#sk-container-id-2 pre{padding: 0;}#sk-container-id-2 div.sk-toggleable {background-color: white;}#sk-container-id-2 label.sk-toggleable__label {cursor: pointer;display: block;width: 100%;margin-bottom: 0;padding: 0.3em;box-sizing: border-box;text-align: center;}#sk-container-id-2 label.sk-toggleable__label-arrow:before {content: \"▸\";float: left;margin-right: 0.25em;color: #696969;}#sk-container-id-2 label.sk-toggleable__label-arrow:hover:before {color: black;}#sk-container-id-2 div.sk-estimator:hover label.sk-toggleable__label-arrow:before {color: black;}#sk-container-id-2 div.sk-toggleable__content {max-height: 0;max-width: 0;overflow: hidden;text-align: left;background-color: #f0f8ff;}#sk-container-id-2 div.sk-toggleable__content pre {margin: 0.2em;color: black;border-radius: 0.25em;background-color: #f0f8ff;}#sk-container-id-2 input.sk-toggleable__control:checked~div.sk-toggleable__content {max-height: 200px;max-width: 100%;overflow: auto;}#sk-container-id-2 input.sk-toggleable__control:checked~label.sk-toggleable__label-arrow:before {content: \"▾\";}#sk-container-id-2 div.sk-estimator input.sk-toggleable__control:checked~label.sk-toggleable__label {background-color: #d4ebff;}#sk-container-id-2 div.sk-label input.sk-toggleable__control:checked~label.sk-toggleable__label {background-color: #d4ebff;}#sk-container-id-2 input.sk-hidden--visually {border: 0;clip: rect(1px 1px 1px 1px);clip: rect(1px, 1px, 1px, 1px);height: 1px;margin: -1px;overflow: hidden;padding: 0;position: absolute;width: 1px;}#sk-container-id-2 div.sk-estimator {font-family: monospace;background-color: #f0f8ff;border: 1px dotted black;border-radius: 0.25em;box-sizing: border-box;margin-bottom: 0.5em;}#sk-container-id-2 div.sk-estimator:hover {background-color: #d4ebff;}#sk-container-id-2 div.sk-parallel-item::after {content: \"\";width: 100%;border-bottom: 1px solid gray;flex-grow: 1;}#sk-container-id-2 div.sk-label:hover label.sk-toggleable__label {background-color: #d4ebff;}#sk-container-id-2 div.sk-serial::before {content: \"\";position: absolute;border-left: 1px solid gray;box-sizing: border-box;top: 0;bottom: 0;left: 50%;z-index: 0;}#sk-container-id-2 div.sk-serial {display: flex;flex-direction: column;align-items: center;background-color: white;padding-right: 0.2em;padding-left: 0.2em;position: relative;}#sk-container-id-2 div.sk-item {position: relative;z-index: 1;}#sk-container-id-2 div.sk-parallel {display: flex;align-items: stretch;justify-content: center;background-color: white;position: relative;}#sk-container-id-2 div.sk-item::before, #sk-container-id-2 div.sk-parallel-item::before {content: \"\";position: absolute;border-left: 1px solid gray;box-sizing: border-box;top: 0;bottom: 0;left: 50%;z-index: -1;}#sk-container-id-2 div.sk-parallel-item {display: flex;flex-direction: column;z-index: 1;position: relative;background-color: white;}#sk-container-id-2 div.sk-parallel-item:first-child::after {align-self: flex-end;width: 50%;}#sk-container-id-2 div.sk-parallel-item:last-child::after {align-self: flex-start;width: 50%;}#sk-container-id-2 div.sk-parallel-item:only-child::after {width: 0;}#sk-container-id-2 div.sk-dashed-wrapped {border: 1px dashed gray;margin: 0 0.4em 0.5em 0.4em;box-sizing: border-box;padding-bottom: 0.4em;background-color: white;}#sk-container-id-2 div.sk-label label {font-family: monospace;font-weight: bold;display: inline-block;line-height: 1.2em;}#sk-container-id-2 div.sk-label-container {text-align: center;}#sk-container-id-2 div.sk-container {/* jupyter's `normalize.less` sets `[hidden] { display: none; }` but bootstrap.min.css set `[hidden] { display: none !important; }` so we also need the `!important` here to be able to override the default hidden behavior on the sphinx rendered scikit-learn.org. See: https://github.com/scikit-learn/scikit-learn/issues/21755 */display: inline-block !important;position: relative;}#sk-container-id-2 div.sk-text-repr-fallback {display: none;}</style><div id=\"sk-container-id-2\" class=\"sk-top-container\"><div class=\"sk-text-repr-fallback\"><pre>LinearRegression()</pre><b>In a Jupyter environment, please rerun this cell to show the HTML representation or trust the notebook. <br />On GitHub, the HTML representation is unable to render, please try loading this page with nbviewer.org.</b></div><div class=\"sk-container\" hidden><div class=\"sk-item\"><div class=\"sk-estimator sk-toggleable\"><input class=\"sk-toggleable__control sk-hidden--visually\" id=\"sk-estimator-id-2\" type=\"checkbox\" checked><label for=\"sk-estimator-id-2\" class=\"sk-toggleable__label sk-toggleable__label-arrow\">LinearRegression</label><div class=\"sk-toggleable__content\"><pre>LinearRegression()</pre></div></div></div></div></div>"
      ],
      "text/plain": [
       "LinearRegression()"
      ]
     },
     "execution_count": 25,
     "metadata": {},
     "output_type": "execute_result"
    }
   ],
   "source": [
    "linear_model = LinearRegression()\n",
    "linear_model.fit(X_train, y_train)"
   ]
  },
  {
   "cell_type": "markdown",
   "id": "3079422d-2bb3-48f6-b029-05220f6aadd0",
   "metadata": {},
   "source": [
    "***Prediction*** "
   ]
  },
  {
   "cell_type": "code",
   "execution_count": 33,
   "id": "e9246a6d-6bcf-47a8-8ce5-e239eba3524a",
   "metadata": {},
   "outputs": [],
   "source": [
    "y_pred_linear = linear_model.predict(X_test)\n",
    "\n",
    "y_pred_linear = linear_model.predict(X_test)"
   ]
  },
  {
   "cell_type": "markdown",
   "id": "2c33ecf5-468c-4625-9def-b1a5fc749117",
   "metadata": {},
   "source": [
    " ***Evaluation for Linear Regression***\n"
   ]
  },
  {
   "cell_type": "code",
   "execution_count": 28,
   "id": "0e13f50d-b71a-43b6-bd08-ed2c7dc3cf1e",
   "metadata": {},
   "outputs": [
    {
     "name": "stdout",
     "output_type": "stream",
     "text": [
      "Step 1: Multiple Linear Regression\n",
      "Mean Absolute Error (MAE): 1.2748\n",
      "R-squared (R2): 0.9059\n",
      "\n"
     ]
    }
   ],
   "source": [
    "mae_linear = mean_absolute_error(y_test, y_pred_linear)\n",
    "r2_linear = r2_score(y_test, y_pred_linear)\n",
    "print(\"Step 1: Multiple Linear Regression\")\n",
    "print(f\"Mean Absolute Error (MAE): {mae_linear:.4f}\")\n",
    "print(f\"R-squared (R2): {r2_linear:.4f}\\n\")"
   ]
  },
  {
   "cell_type": "markdown",
   "id": "9910db1b-2af0-4a85-a42a-c3962e3ca7c6",
   "metadata": {},
   "source": [
    "### ***Polynomial Regression***"
   ]
  },
  {
   "cell_type": "code",
   "execution_count": 29,
   "id": "c1f37789-8201-4fd2-882f-b3e715424a24",
   "metadata": {},
   "outputs": [
    {
     "data": {
      "text/html": [
       "<style>#sk-container-id-3 {color: black;background-color: white;}#sk-container-id-3 pre{padding: 0;}#sk-container-id-3 div.sk-toggleable {background-color: white;}#sk-container-id-3 label.sk-toggleable__label {cursor: pointer;display: block;width: 100%;margin-bottom: 0;padding: 0.3em;box-sizing: border-box;text-align: center;}#sk-container-id-3 label.sk-toggleable__label-arrow:before {content: \"▸\";float: left;margin-right: 0.25em;color: #696969;}#sk-container-id-3 label.sk-toggleable__label-arrow:hover:before {color: black;}#sk-container-id-3 div.sk-estimator:hover label.sk-toggleable__label-arrow:before {color: black;}#sk-container-id-3 div.sk-toggleable__content {max-height: 0;max-width: 0;overflow: hidden;text-align: left;background-color: #f0f8ff;}#sk-container-id-3 div.sk-toggleable__content pre {margin: 0.2em;color: black;border-radius: 0.25em;background-color: #f0f8ff;}#sk-container-id-3 input.sk-toggleable__control:checked~div.sk-toggleable__content {max-height: 200px;max-width: 100%;overflow: auto;}#sk-container-id-3 input.sk-toggleable__control:checked~label.sk-toggleable__label-arrow:before {content: \"▾\";}#sk-container-id-3 div.sk-estimator input.sk-toggleable__control:checked~label.sk-toggleable__label {background-color: #d4ebff;}#sk-container-id-3 div.sk-label input.sk-toggleable__control:checked~label.sk-toggleable__label {background-color: #d4ebff;}#sk-container-id-3 input.sk-hidden--visually {border: 0;clip: rect(1px 1px 1px 1px);clip: rect(1px, 1px, 1px, 1px);height: 1px;margin: -1px;overflow: hidden;padding: 0;position: absolute;width: 1px;}#sk-container-id-3 div.sk-estimator {font-family: monospace;background-color: #f0f8ff;border: 1px dotted black;border-radius: 0.25em;box-sizing: border-box;margin-bottom: 0.5em;}#sk-container-id-3 div.sk-estimator:hover {background-color: #d4ebff;}#sk-container-id-3 div.sk-parallel-item::after {content: \"\";width: 100%;border-bottom: 1px solid gray;flex-grow: 1;}#sk-container-id-3 div.sk-label:hover label.sk-toggleable__label {background-color: #d4ebff;}#sk-container-id-3 div.sk-serial::before {content: \"\";position: absolute;border-left: 1px solid gray;box-sizing: border-box;top: 0;bottom: 0;left: 50%;z-index: 0;}#sk-container-id-3 div.sk-serial {display: flex;flex-direction: column;align-items: center;background-color: white;padding-right: 0.2em;padding-left: 0.2em;position: relative;}#sk-container-id-3 div.sk-item {position: relative;z-index: 1;}#sk-container-id-3 div.sk-parallel {display: flex;align-items: stretch;justify-content: center;background-color: white;position: relative;}#sk-container-id-3 div.sk-item::before, #sk-container-id-3 div.sk-parallel-item::before {content: \"\";position: absolute;border-left: 1px solid gray;box-sizing: border-box;top: 0;bottom: 0;left: 50%;z-index: -1;}#sk-container-id-3 div.sk-parallel-item {display: flex;flex-direction: column;z-index: 1;position: relative;background-color: white;}#sk-container-id-3 div.sk-parallel-item:first-child::after {align-self: flex-end;width: 50%;}#sk-container-id-3 div.sk-parallel-item:last-child::after {align-self: flex-start;width: 50%;}#sk-container-id-3 div.sk-parallel-item:only-child::after {width: 0;}#sk-container-id-3 div.sk-dashed-wrapped {border: 1px dashed gray;margin: 0 0.4em 0.5em 0.4em;box-sizing: border-box;padding-bottom: 0.4em;background-color: white;}#sk-container-id-3 div.sk-label label {font-family: monospace;font-weight: bold;display: inline-block;line-height: 1.2em;}#sk-container-id-3 div.sk-label-container {text-align: center;}#sk-container-id-3 div.sk-container {/* jupyter's `normalize.less` sets `[hidden] { display: none; }` but bootstrap.min.css set `[hidden] { display: none !important; }` so we also need the `!important` here to be able to override the default hidden behavior on the sphinx rendered scikit-learn.org. See: https://github.com/scikit-learn/scikit-learn/issues/21755 */display: inline-block !important;position: relative;}#sk-container-id-3 div.sk-text-repr-fallback {display: none;}</style><div id=\"sk-container-id-3\" class=\"sk-top-container\"><div class=\"sk-text-repr-fallback\"><pre>Pipeline(steps=[(&#x27;polynomial_features&#x27;, PolynomialFeatures(include_bias=False)),\n",
       "                (&#x27;linear_regression&#x27;, LinearRegression())])</pre><b>In a Jupyter environment, please rerun this cell to show the HTML representation or trust the notebook. <br />On GitHub, the HTML representation is unable to render, please try loading this page with nbviewer.org.</b></div><div class=\"sk-container\" hidden><div class=\"sk-item sk-dashed-wrapped\"><div class=\"sk-label-container\"><div class=\"sk-label sk-toggleable\"><input class=\"sk-toggleable__control sk-hidden--visually\" id=\"sk-estimator-id-3\" type=\"checkbox\" ><label for=\"sk-estimator-id-3\" class=\"sk-toggleable__label sk-toggleable__label-arrow\">Pipeline</label><div class=\"sk-toggleable__content\"><pre>Pipeline(steps=[(&#x27;polynomial_features&#x27;, PolynomialFeatures(include_bias=False)),\n",
       "                (&#x27;linear_regression&#x27;, LinearRegression())])</pre></div></div></div><div class=\"sk-serial\"><div class=\"sk-item\"><div class=\"sk-estimator sk-toggleable\"><input class=\"sk-toggleable__control sk-hidden--visually\" id=\"sk-estimator-id-4\" type=\"checkbox\" ><label for=\"sk-estimator-id-4\" class=\"sk-toggleable__label sk-toggleable__label-arrow\">PolynomialFeatures</label><div class=\"sk-toggleable__content\"><pre>PolynomialFeatures(include_bias=False)</pre></div></div></div><div class=\"sk-item\"><div class=\"sk-estimator sk-toggleable\"><input class=\"sk-toggleable__control sk-hidden--visually\" id=\"sk-estimator-id-5\" type=\"checkbox\" ><label for=\"sk-estimator-id-5\" class=\"sk-toggleable__label sk-toggleable__label-arrow\">LinearRegression</label><div class=\"sk-toggleable__content\"><pre>LinearRegression()</pre></div></div></div></div></div></div></div>"
      ],
      "text/plain": [
       "Pipeline(steps=[('polynomial_features', PolynomialFeatures(include_bias=False)),\n",
       "                ('linear_regression', LinearRegression())])"
      ]
     },
     "execution_count": 29,
     "metadata": {},
     "output_type": "execute_result"
    }
   ],
   "source": [
    "polynomial_features = PolynomialFeatures(degree=2, include_bias=False)\n",
    "polynomial_model = Pipeline([\n",
    "    (\"polynomial_features\", polynomial_features),\n",
    "    (\"linear_regression\", LinearRegression()),\n",
    "])\n",
    "\n",
    "polynomial_model.fit(X_train, y_train)"
   ]
  },
  {
   "cell_type": "markdown",
   "id": "166c5ab1-fd45-4236-a55f-c5f9bbced562",
   "metadata": {},
   "source": [
    "***Predictions***"
   ]
  },
  {
   "cell_type": "code",
   "execution_count": 30,
   "id": "38831813-b17d-4b68-87bf-d652a6586b76",
   "metadata": {},
   "outputs": [],
   "source": [
    "y_pred_poly = polynomial_model.predict(X_test)"
   ]
  },
  {
   "cell_type": "markdown",
   "id": "1270b41d-b5ee-43ae-a6d5-d4be82d6ac77",
   "metadata": {},
   "source": [
    "***Evaluation for Polynomial Regression***"
   ]
  },
  {
   "cell_type": "code",
   "execution_count": 31,
   "id": "14fc20a0-fa17-4442-844c-535ab6ff94b5",
   "metadata": {},
   "outputs": [
    {
     "name": "stdout",
     "output_type": "stream",
     "text": [
      "Step 2: Polynomial Regression\n",
      "Mean Absolute Error (MAE): 0.9034\n",
      "R-squared (R2): 0.9533\n",
      "\n"
     ]
    }
   ],
   "source": [
    "mae_poly = mean_absolute_error(y_test, y_pred_poly)\n",
    "r2_poly = r2_score(y_test, y_pred_poly)\n",
    "\n",
    "print(\"Step 2: Polynomial Regression\")\n",
    "print(f\"Mean Absolute Error (MAE): {mae_poly:.4f}\")\n",
    "print(f\"R-squared (R2): {r2_poly:.4f}\\n\")"
   ]
  },
  {
   "cell_type": "markdown",
   "id": "f5c929c1-f74b-455d-96cb-d7d641c474d9",
   "metadata": {},
   "source": [
    "### ***Cross-validation Comparison***"
   ]
  },
  {
   "cell_type": "code",
   "execution_count": 35,
   "id": "9b45fca8-5856-4d55-91de-b769311ef3fc",
   "metadata": {},
   "outputs": [
    {
     "name": "stdout",
     "output_type": "stream",
     "text": [
      "Step 3: Cross-validation Comparison\n",
      "Linear Regression - Mean CV MAE: 1.2683\n",
      "Polynomial Regression - Mean CV MAE: 1.0676\n"
     ]
    }
   ],
   "source": [
    "cv_scores_linear = cross_val_score(linear_model, X, y, scoring=\"neg_mean_absolute_error\", cv=5)\n",
    "cv_scores_poly = cross_val_score(polynomial_model, X, y, scoring=\"neg_mean_absolute_error\", cv=5)\n",
    "\n",
    "print(\"Step 3: Cross-validation Comparison\")\n",
    "print(f\"Linear Regression - Mean CV MAE: {-np.mean(cv_scores_linear):.4f}\")\n",
    "print(f\"Polynomial Regression - Mean CV MAE: {-np.mean(cv_scores_poly):.4f}\")"
   ]
  },
  {
   "cell_type": "markdown",
   "id": "ed92f2d9-91b2-438a-b1a0-75942b6262df",
   "metadata": {},
   "source": [
    "### ***Plot actual vs predicted for Linear Regression***"
   ]
  },
  {
   "cell_type": "code",
   "execution_count": 38,
   "id": "14210d43-e59e-4897-bce6-a64f58dc46a1",
   "metadata": {},
   "outputs": [
    {
     "data": {
      "text/plain": [
       "Text(0.5, 1.0, 'Linear Regression: Actual vs Predicted')"
      ]
     },
     "execution_count": 38,
     "metadata": {},
     "output_type": "execute_result"
    },
    {
     "data": {
      "image/png": "[encoded data removed]",
      "text/plain": [
       "<Figure size 1200x600 with 1 Axes>"
      ]
     },
     "metadata": {},
     "output_type": "display_data"
    }
   ],
   "source": [
    "import matplotlib.pyplot as plt\n",
    "plt.figure(figsize=(12, 6))\n",
    "plt.subplot(1, 2, 1)\n",
    "plt.scatter(y_test, y_pred_linear, alpha=0.7, color='blue')\n",
    "plt.plot([y.min(), y.max()], [y.min(), y.max()], 'r--', lw=2)\n",
    "plt.xlabel('Actual Sales')\n",
    "plt.ylabel('Predicted Sales')\n",
    "plt.title('Linear Regression: Actual vs Predicted')"
   ]
  },
  {
   "cell_type": "markdown",
   "id": "147947f6-8ab5-4fd8-8601-de8ad986b54e",
   "metadata": {},
   "source": [
    "### ***Plot actual vs predicted for Polynomial Regression***"
   ]
  },
  {
   "cell_type": "code",
   "execution_count": 39,
   "id": "87d3f0a1-1b7e-4c02-8c21-d8565c6f48f4",
   "metadata": {},
   "outputs": [
    {
     "data": {
      "image/png": "[encoded data removed]",
      "text/plain": [
       "<Figure size 640x480 with 1 Axes>"
      ]
     },
     "metadata": {},
     "output_type": "display_data"
    }
   ],
   "source": [
    "plt.subplot(1, 2, 2)\n",
    "plt.scatter(y_test, y_pred_poly, alpha=0.7, color='green')\n",
    "plt.plot([y.min(), y.max()], [y.min(), y.max()], 'r--', lw=2)\n",
    "plt.xlabel('Actual Sales')\n",
    "plt.ylabel('Predicted Sales')\n",
    "plt.title('Polynomial Regression: Actual vs Predicted')\n",
    "\n",
    "plt.tight_layout()\n",
    "plt.show()\n"
   ]
  },
  {
   "cell_type": "code",
   "execution_count": null,
   "id": "1f28965b-2e83-436b-92ad-b49743604e05",
   "metadata": {},
   "outputs": [],
   "source": []
  }
 ],
 "metadata": {
  "kernelspec": {
   "display_name": "Python 3 (ipykernel)",
   "language": "python",
   "name": "python3"
  },
  "language_info": {
   "codemirror_mode": {
    "name": "ipython",
    "version": 3
   },
   "file_extension": ".py",
   "mimetype": "text/x-python",
   "name": "python",
   "nbconvert_exporter": "python",
   "pygments_lexer": "ipython3",
   "version": "3.11.7"
  }
 },
 "nbformat": 4,
 "nbformat_minor": 5
}
