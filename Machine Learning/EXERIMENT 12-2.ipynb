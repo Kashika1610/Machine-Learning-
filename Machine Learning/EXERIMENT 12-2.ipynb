{
 "cells": [
  {
   "cell_type": "markdown",
   "metadata": {
    "id": "cUHQhUNORpEu"
   },
   "source": [
    "# ***EXPERIMENT 12***\n",
    "## *Principal Component Analysis (PCA)**\n",
    "\n",
    "Principal Component Analysis (PCA) is an unsupervised machine learning algorithm used for dimensionality reduction. It is a statistical method that reduces the dimensionality of a dataset while retaining as much variance as possible. PCA is used to transform the original dataset into a new set of variables called principal components, which are linearly uncorrelated with each other. These principal components are used to represent the original dataset with fewer dimensions, while retaining most of the information.\n",
    "PCA can be used for a variety of applications, such as image and speech recognition, data compression, and data visualization. In this lab, we will learn how to use PCA for dimensionality reduction.\n"
   ]
  },
  {
   "cell_type": "markdown",
   "metadata": {
    "id": "dvtU1d-nVmMi"
   },
   "source": [
    "***About Dataset***\n",
    "\n",
    "Generates a random dataset in CSV format using Python's Pandas library. You can modify this code according to your requirements."
   ]
  },
  {
   "cell_type": "markdown",
   "metadata": {
    "id": "9UepgKv6V6c4"
   },
   "source": [
    "**Import necessary libraries**"
   ]
  },
  {
   "cell_type": "code",
   "execution_count": null,
   "metadata": {
    "id": "Jmhphglp87UO"
   },
   "outputs": [],
   "source": [
    "import pandas as pd\n",
    "import numpy as np\n",
    "from sklearn.preprocessing import StandardScaler\n",
    "from sklearn.decomposition import PCA\n",
    "import matplotlib.pyplot as plt"
   ]
  },
  {
   "cell_type": "markdown",
   "metadata": {
    "id": "iqjRpX1AW80r"
   },
   "source": [
    "***Create dataset***"
   ]
  },
  {
   "cell_type": "code",
   "execution_count": null,
   "metadata": {
    "id": "e8wc05vPT3tF"
   },
   "outputs": [],
   "source": [
    "# set seed for reproducibility\n",
    "np.random.seed(42)\n",
    "\n",
    "# generate random data\n",
    "data = np.random.randn(1000, 10)\n",
    "\n",
    "# create DataFrame with column names\n",
    "df = pd.DataFrame(data, columns=['feature_1', 'feature_2', 'feature_3', 'feature_4', 'feature_5', 'feature_6', 'feature_7', 'feature_8', 'feature_9', 'feature_10'])\n",
    "\n",
    "# add labels to DataFrame\n",
    "df['label'] = np.random.randint(0, 2, size=1000)\n",
    "\n",
    "# save DataFrame to CSV file\n",
    "df.to_csv('data.csv', index=False)\n"
   ]
  },
  {
   "cell_type": "code",
   "execution_count": null,
   "metadata": {
    "id": "e9MfmeuvWHXX"
   },
   "outputs": [],
   "source": [
    "df = pd.read_csv('data.csv')"
   ]
  },
  {
   "cell_type": "code",
   "execution_count": null,
   "metadata": {
    "colab": {
     "base_uri": "https://localhost:8080/",
     "height": 206
    },
    "id": "Eu5gxHkrY22v",
    "outputId": "5594fd1a-3a85-4cf8-e7ed-1d61cb69a19a"
   },
   "outputs": [
    {
     "data": {
      "text/html": [
       "\n",
       "  <div id=\"df-d7ef8b97-2717-44e4-ab04-b896ed889375\">\n",
       "    <div class=\"colab-df-container\">\n",
       "      <div>\n",
       "<style scoped>\n",
       "    .dataframe tbody tr th:only-of-type {\n",
       "        vertical-align: middle;\n",
       "    }\n",
       "\n",
       "    .dataframe tbody tr th {\n",
       "        vertical-align: top;\n",
       "    }\n",
       "\n",
       "    .dataframe thead th {\n",
       "        text-align: right;\n",
       "    }\n",
       "</style>\n",
       "<table border=\"1\" class=\"dataframe\">\n",
       "  <thead>\n",
       "    <tr style=\"text-align: right;\">\n",
       "      <th></th>\n",
       "      <th>feature_1</th>\n",
       "      <th>feature_2</th>\n",
       "      <th>feature_3</th>\n",
       "      <th>feature_4</th>\n",
       "      <th>feature_5</th>\n",
       "      <th>feature_6</th>\n",
       "      <th>feature_7</th>\n",
       "      <th>feature_8</th>\n",
       "      <th>feature_9</th>\n",
       "      <th>feature_10</th>\n",
       "      <th>label</th>\n",
       "    </tr>\n",
       "  </thead>\n",
       "  <tbody>\n",
       "    <tr>\n",
       "      <th>0</th>\n",
       "      <td>0.496714</td>\n",
       "      <td>-0.138264</td>\n",
       "      <td>0.647689</td>\n",
       "      <td>1.523030</td>\n",
       "      <td>-0.234153</td>\n",
       "      <td>-0.234137</td>\n",
       "      <td>1.579213</td>\n",
       "      <td>0.767435</td>\n",
       "      <td>-0.469474</td>\n",
       "      <td>0.542560</td>\n",
       "      <td>1</td>\n",
       "    </tr>\n",
       "    <tr>\n",
       "      <th>1</th>\n",
       "      <td>-0.463418</td>\n",
       "      <td>-0.465730</td>\n",
       "      <td>0.241962</td>\n",
       "      <td>-1.913280</td>\n",
       "      <td>-1.724918</td>\n",
       "      <td>-0.562288</td>\n",
       "      <td>-1.012831</td>\n",
       "      <td>0.314247</td>\n",
       "      <td>-0.908024</td>\n",
       "      <td>-1.412304</td>\n",
       "      <td>1</td>\n",
       "    </tr>\n",
       "    <tr>\n",
       "      <th>2</th>\n",
       "      <td>1.465649</td>\n",
       "      <td>-0.225776</td>\n",
       "      <td>0.067528</td>\n",
       "      <td>-1.424748</td>\n",
       "      <td>-0.544383</td>\n",
       "      <td>0.110923</td>\n",
       "      <td>-1.150994</td>\n",
       "      <td>0.375698</td>\n",
       "      <td>-0.600639</td>\n",
       "      <td>-0.291694</td>\n",
       "      <td>0</td>\n",
       "    </tr>\n",
       "    <tr>\n",
       "      <th>3</th>\n",
       "      <td>-0.601707</td>\n",
       "      <td>1.852278</td>\n",
       "      <td>-0.013497</td>\n",
       "      <td>-1.057711</td>\n",
       "      <td>0.822545</td>\n",
       "      <td>-1.220844</td>\n",
       "      <td>0.208864</td>\n",
       "      <td>-1.959670</td>\n",
       "      <td>-1.328186</td>\n",
       "      <td>0.196861</td>\n",
       "      <td>0</td>\n",
       "    </tr>\n",
       "    <tr>\n",
       "      <th>4</th>\n",
       "      <td>0.738467</td>\n",
       "      <td>0.171368</td>\n",
       "      <td>-0.115648</td>\n",
       "      <td>-0.301104</td>\n",
       "      <td>-1.478522</td>\n",
       "      <td>-0.719844</td>\n",
       "      <td>-0.460639</td>\n",
       "      <td>1.057122</td>\n",
       "      <td>0.343618</td>\n",
       "      <td>-1.763040</td>\n",
       "      <td>0</td>\n",
       "    </tr>\n",
       "  </tbody>\n",
       "</table>\n",
       "</div>\n",
       "      <button class=\"colab-df-convert\" onclick=\"convertToInteractive('df-d7ef8b97-2717-44e4-ab04-b896ed889375')\"\n",
       "              title=\"Convert this dataframe to an interactive table.\"\n",
       "              style=\"display:none;\">\n",
       "        \n",
       "  <svg xmlns=\"http://www.w3.org/2000/svg\" height=\"24px\"viewBox=\"0 0 24 24\"\n",
       "       width=\"24px\">\n",
       "    <path d=\"M0 0h24v24H0V0z\" fill=\"none\"/>\n",
       "    <path d=\"M18.56 5.44l.94 2.06.94-2.06 2.06-.94-2.06-.94-.94-2.06-.94 2.06-2.06.94zm-11 1L8.5 8.5l.94-2.06 2.06-.94-2.06-.94L8.5 2.5l-.94 2.06-2.06.94zm10 10l.94 2.06.94-2.06 2.06-.94-2.06-.94-.94-2.06-.94 2.06-2.06.94z\"/><path d=\"M17.41 7.96l-1.37-1.37c-.4-.4-.92-.59-1.43-.59-.52 0-1.04.2-1.43.59L10.3 9.45l-7.72 7.72c-.78.78-.78 2.05 0 2.83L4 21.41c.39.39.9.59 1.41.59.51 0 1.02-.2 1.41-.59l7.78-7.78 2.81-2.81c.8-.78.8-2.07 0-2.86zM5.41 20L4 18.59l7.72-7.72 1.47 1.35L5.41 20z\"/>\n",
       "  </svg>\n",
       "      </button>\n",
       "      \n",
       "  <style>\n",
       "    .colab-df-container {\n",
       "      display:flex;\n",
       "      flex-wrap:wrap;\n",
       "      gap: 12px;\n",
       "    }\n",
       "\n",
       "    .colab-df-convert {\n",
       "      background-color: #E8F0FE;\n",
       "      border: none;\n",
       "      border-radius: 50%;\n",
       "      cursor: pointer;\n",
       "      display: none;\n",
       "      fill: #1967D2;\n",
       "      height: 32px;\n",
       "      padding: 0 0 0 0;\n",
       "      width: 32px;\n",
       "    }\n",
       "\n",
       "    .colab-df-convert:hover {\n",
       "      background-color: #E2EBFA;\n",
       "      box-shadow: 0px 1px 2px rgba(60, 64, 67, 0.3), 0px 1px 3px 1px rgba(60, 64, 67, 0.15);\n",
       "      fill: #174EA6;\n",
       "    }\n",
       "\n",
       "    [theme=dark] .colab-df-convert {\n",
       "      background-color: #3B4455;\n",
       "      fill: #D2E3FC;\n",
       "    }\n",
       "\n",
       "    [theme=dark] .colab-df-convert:hover {\n",
       "      background-color: #434B5C;\n",
       "      box-shadow: 0px 1px 3px 1px rgba(0, 0, 0, 0.15);\n",
       "      filter: drop-shadow(0px 1px 2px rgba(0, 0, 0, 0.3));\n",
       "      fill: #FFFFFF;\n",
       "    }\n",
       "  </style>\n",
       "\n",
       "      <script>\n",
       "        const buttonEl =\n",
       "          document.querySelector('#df-d7ef8b97-2717-44e4-ab04-b896ed889375 button.colab-df-convert');\n",
       "        buttonEl.style.display =\n",
       "          google.colab.kernel.accessAllowed ? 'block' : 'none';\n",
       "\n",
       "        async function convertToInteractive(key) {\n",
       "          const element = document.querySelector('#df-d7ef8b97-2717-44e4-ab04-b896ed889375');\n",
       "          const dataTable =\n",
       "            await google.colab.kernel.invokeFunction('convertToInteractive',\n",
       "                                                     [key], {});\n",
       "          if (!dataTable) return;\n",
       "\n",
       "          const docLinkHtml = 'Like what you see? Visit the ' +\n",
       "            '<a target=\"_blank\" href=https://colab.research.google.com/notebooks/data_table.ipynb>data table notebook</a>'\n",
       "            + ' to learn more about interactive tables.';\n",
       "          element.innerHTML = '';\n",
       "          dataTable['output_type'] = 'display_data';\n",
       "          await google.colab.output.renderOutput(dataTable, element);\n",
       "          const docLink = document.createElement('div');\n",
       "          docLink.innerHTML = docLinkHtml;\n",
       "          element.appendChild(docLink);\n",
       "        }\n",
       "      </script>\n",
       "    </div>\n",
       "  </div>\n",
       "  "
      ],
      "text/plain": [
       "   feature_1  feature_2  feature_3  feature_4  feature_5  feature_6  \\\n",
       "0   0.496714  -0.138264   0.647689   1.523030  -0.234153  -0.234137   \n",
       "1  -0.463418  -0.465730   0.241962  -1.913280  -1.724918  -0.562288   \n",
       "2   1.465649  -0.225776   0.067528  -1.424748  -0.544383   0.110923   \n",
       "3  -0.601707   1.852278  -0.013497  -1.057711   0.822545  -1.220844   \n",
       "4   0.738467   0.171368  -0.115648  -0.301104  -1.478522  -0.719844   \n",
       "\n",
       "   feature_7  feature_8  feature_9  feature_10  label  \n",
       "0   1.579213   0.767435  -0.469474    0.542560      1  \n",
       "1  -1.012831   0.314247  -0.908024   -1.412304      1  \n",
       "2  -1.150994   0.375698  -0.600639   -0.291694      0  \n",
       "3   0.208864  -1.959670  -1.328186    0.196861      0  \n",
       "4  -0.460639   1.057122   0.343618   -1.763040      0  "
      ]
     },
     "execution_count": 4,
     "metadata": {},
     "output_type": "execute_result"
    }
   ],
   "source": [
    "df.head()"
   ]
  },
  {
   "cell_type": "code",
   "execution_count": null,
   "metadata": {
    "colab": {
     "base_uri": "https://localhost:8080/"
    },
    "id": "8L55ZwQiY5uc",
    "outputId": "0d4c9ccc-b0e3-4c59-e448-bd02699cf011"
   },
   "outputs": [
    {
     "data": {
      "text/plain": [
       "(1000, 11)"
      ]
     },
     "execution_count": 5,
     "metadata": {},
     "output_type": "execute_result"
    }
   ],
   "source": [
    "df.shape"
   ]
  },
  {
   "cell_type": "markdown",
   "metadata": {
    "id": "97ySC7F2XF3e"
   },
   "source": [
    "***Seperate features and label***"
   ]
  },
  {
   "cell_type": "code",
   "execution_count": null,
   "metadata": {
    "id": "bePr8xfTWR_G"
   },
   "outputs": [],
   "source": [
    "X = df.drop('label', axis=1)\n",
    "y = df['label']\n"
   ]
  },
  {
   "cell_type": "markdown",
   "metadata": {
    "id": "9Q8oEWn8XUGP"
   },
   "source": [
    "***Standardize the features using Scikit-learn's StandardScaler***"
   ]
  },
  {
   "cell_type": "code",
   "execution_count": null,
   "metadata": {
    "id": "JOXGC5WrWSID"
   },
   "outputs": [],
   "source": [
    "scaler = StandardScaler()\n",
    "X = scaler.fit_transform(X)\n"
   ]
  },
  {
   "cell_type": "code",
   "execution_count": null,
   "metadata": {
    "colab": {
     "base_uri": "https://localhost:8080/"
    },
    "id": "75nPxUSlZst0",
    "outputId": "23722eaa-301a-4151-978c-6f42add54705"
   },
   "outputs": [
    {
     "data": {
      "text/plain": [
       "array([[ 0.48354286, -0.16696248,  0.68190886, ...,  0.73942652,\n",
       "        -0.45254674,  0.53392184],\n",
       "       [-0.47187899, -0.48941772,  0.26911296, ...,  0.29962931,\n",
       "        -0.89716418, -1.53513054],\n",
       "       [ 1.4477243 , -0.25313554,  0.09163944, ...,  0.35926433,\n",
       "        -0.58552583, -0.34906287],\n",
       "       ...,\n",
       "       [-0.91884606,  0.65984504,  0.88293647, ..., -0.87963492,\n",
       "        -1.00327375, -1.90309315],\n",
       "       [-0.45434306, -0.52682901,  0.55803613, ..., -1.72884087,\n",
       "        -0.97109578, -0.85616938],\n",
       "       [ 1.41585765,  0.15770791,  0.69664139, ..., -0.68980999,\n",
       "         0.52604821,  0.64169831]])"
      ]
     },
     "execution_count": 8,
     "metadata": {},
     "output_type": "execute_result"
    }
   ],
   "source": [
    "X"
   ]
  },
  {
   "cell_type": "markdown",
   "metadata": {
    "id": "3PT9ncL1XaGL"
   },
   "source": [
    "***Apply PCA to the standardized features using Scikit-learn's PCA***"
   ]
  },
  {
   "cell_type": "code",
   "execution_count": null,
   "metadata": {
    "id": "djXq8iLdWSK_"
   },
   "outputs": [],
   "source": [
    "pca = PCA()\n",
    "X_pca = pca.fit_transform(X)"
   ]
  },
  {
   "cell_type": "code",
   "execution_count": null,
   "metadata": {
    "colab": {
     "base_uri": "https://localhost:8080/"
    },
    "id": "W-flkWHFZjTa",
    "outputId": "a931a9bc-27fc-48b4-c2d1-de4f80c1bbe3"
   },
   "outputs": [
    {
     "data": {
      "text/plain": [
       "(1000, 10)"
      ]
     },
     "execution_count": 10,
     "metadata": {},
     "output_type": "execute_result"
    }
   ],
   "source": [
    "X_pca.shape"
   ]
  },
  {
   "cell_type": "markdown",
   "metadata": {
    "id": "WZ_nb3IKXf0U"
   },
   "source": [
    "***Determine the number of principal components to retain***"
   ]
  },
  {
   "cell_type": "code",
   "execution_count": null,
   "metadata": {
    "colab": {
     "base_uri": "https://localhost:8080/"
    },
    "id": "a1q_n2FeWSOa",
    "outputId": "5f2a3f20-099d-4ffd-85a0-878e47a5cf42"
   },
   "outputs": [
    {
     "data": {
      "text/plain": [
       "(10,)"
      ]
     },
     "execution_count": 11,
     "metadata": {},
     "output_type": "execute_result"
    }
   ],
   "source": [
    "explained_variance = pca.explained_variance_ratio_ # Percentage of variance explained by all principle components in the sorted order.\n",
    "explained_variance.shape"
   ]
  },
  {
   "cell_type": "code",
   "execution_count": null,
   "metadata": {
    "colab": {
     "base_uri": "https://localhost:8080/",
     "height": 449
    },
    "id": "nrbC7Oa6gvnw",
    "outputId": "6303bfff-9400-43a1-cd67-dfd9e2b7704f"
   },
   "outputs": [
    {
     "data": {
      "image/png": "[encoded data removed]",
      "text/plain": [
       "<Figure size 640x480 with 1 Axes>"
      ]
     },
     "metadata": {},
     "output_type": "display_data"
    }
   ],
   "source": [
    "# calculate cumulative sum of explained variances\n",
    "cum_var_exp = np.cumsum(explained_variance)\n",
    "\n",
    "# plot explained variances\n",
    "plt.bar(range(1,11), explained_variance, alpha=0.5, align='center', label='individual explained variance')\n",
    "plt.step(range(1,11), cum_var_exp, where='mid',label='cumulative explained variance')\n",
    "plt.ylabel('Explained variance ratio')\n",
    "plt.xlabel('Principal component index')\n",
    "plt.legend(loc='best')\n",
    "plt.show()"
   ]
  },
  {
   "cell_type": "code",
   "execution_count": null,
   "metadata": {
    "colab": {
     "base_uri": "https://localhost:8080/"
    },
    "id": "s3bQXdHMaIQm",
    "outputId": "1abdb863-6943-4eaa-b988-8021d850264e"
   },
   "outputs": [
    {
     "data": {
      "text/plain": [
       "9"
      ]
     },
     "execution_count": 13,
     "metadata": {},
     "output_type": "execute_result"
    }
   ],
   "source": [
    "n_components = np.argmax(np.cumsum(explained_variance) >= 0.85) + 1\n",
    "n_components"
   ]
  },
  {
   "cell_type": "markdown",
   "metadata": {
    "id": "TjtcTDANXp13"
   },
   "source": [
    "***Transform the features using the retained principal components***"
   ]
  },
  {
   "cell_type": "code",
   "execution_count": null,
   "metadata": {
    "id": "7M1eDYyyWrvq"
   },
   "outputs": [],
   "source": [
    "pca = PCA(n_components=n_components)\n",
    "X_pca = pca.fit_transform(X)"
   ]
  },
  {
   "cell_type": "code",
   "execution_count": null,
   "metadata": {
    "colab": {
     "base_uri": "https://localhost:8080/"
    },
    "id": "8XLv7ZP4aMoL",
    "outputId": "6a8c564c-8cdb-43ed-c2ef-bd342318ebdb"
   },
   "outputs": [
    {
     "data": {
      "text/plain": [
       "array([[ 0.14087002, -0.82830928,  0.87722063, ...,  0.47267104,\n",
       "        -1.64612532,  1.35595763],\n",
       "       [ 1.48647641,  1.04986745, -0.59943965, ..., -0.87336865,\n",
       "        -0.07584734, -2.19463722],\n",
       "       [ 0.73447775,  0.7974278 ,  0.2278794 , ...,  0.03795895,\n",
       "         0.66791362, -0.67879312],\n",
       "       ...,\n",
       "       [ 1.59701063, -0.92549502, -0.86773539, ...,  0.27181765,\n",
       "        -1.2148774 ,  0.42035329],\n",
       "       [ 1.31130739,  0.41701375,  1.23187363, ..., -0.55713946,\n",
       "         0.21261952, -0.96665368],\n",
       "       [-0.52486057,  1.39777452,  0.52392865, ..., -0.01989061,\n",
       "         1.61260797, -0.2792058 ]])"
      ]
     },
     "execution_count": 15,
     "metadata": {},
     "output_type": "execute_result"
    }
   ],
   "source": [
    "X_pca"
   ]
  },
  {
   "cell_type": "markdown",
   "metadata": {
    "id": "WdpzfIm7Xx9J"
   },
   "source": [
    "***Concatenate the transformed features and labels into a new dataset***"
   ]
  },
  {
   "cell_type": "code",
   "execution_count": null,
   "metadata": {
    "id": "ToSGPXD6WrzA"
   },
   "outputs": [],
   "source": [
    "new_df = pd.concat([pd.DataFrame(X_pca), y], axis=1)"
   ]
  },
  {
   "cell_type": "code",
   "execution_count": null,
   "metadata": {
    "colab": {
     "base_uri": "https://localhost:8080/",
     "height": 206
    },
    "id": "zEVSCBs0aRjD",
    "outputId": "e2df61d7-d847-4896-a49f-675a8a3bbe64"
   },
   "outputs": [
    {
     "data": {
      "text/html": [
       "\n",
       "  <div id=\"df-1acf7eff-1176-4b2f-9bc2-4b1cecd3a972\">\n",
       "    <div class=\"colab-df-container\">\n",
       "      <div>\n",
       "<style scoped>\n",
       "    .dataframe tbody tr th:only-of-type {\n",
       "        vertical-align: middle;\n",
       "    }\n",
       "\n",
       "    .dataframe tbody tr th {\n",
       "        vertical-align: top;\n",
       "    }\n",
       "\n",
       "    .dataframe thead th {\n",
       "        text-align: right;\n",
       "    }\n",
       "</style>\n",
       "<table border=\"1\" class=\"dataframe\">\n",
       "  <thead>\n",
       "    <tr style=\"text-align: right;\">\n",
       "      <th></th>\n",
       "      <th>0</th>\n",
       "      <th>1</th>\n",
       "      <th>2</th>\n",
       "      <th>3</th>\n",
       "      <th>4</th>\n",
       "      <th>5</th>\n",
       "      <th>6</th>\n",
       "      <th>7</th>\n",
       "      <th>8</th>\n",
       "      <th>label</th>\n",
       "    </tr>\n",
       "  </thead>\n",
       "  <tbody>\n",
       "    <tr>\n",
       "      <th>0</th>\n",
       "      <td>0.140870</td>\n",
       "      <td>-0.828309</td>\n",
       "      <td>0.877221</td>\n",
       "      <td>0.004460</td>\n",
       "      <td>-0.304857</td>\n",
       "      <td>0.643844</td>\n",
       "      <td>0.472671</td>\n",
       "      <td>-1.646125</td>\n",
       "      <td>1.355958</td>\n",
       "      <td>1</td>\n",
       "    </tr>\n",
       "    <tr>\n",
       "      <th>1</th>\n",
       "      <td>1.486476</td>\n",
       "      <td>1.049867</td>\n",
       "      <td>-0.599440</td>\n",
       "      <td>-1.264213</td>\n",
       "      <td>0.505592</td>\n",
       "      <td>0.686403</td>\n",
       "      <td>-0.873369</td>\n",
       "      <td>-0.075847</td>\n",
       "      <td>-2.194637</td>\n",
       "      <td>1</td>\n",
       "    </tr>\n",
       "    <tr>\n",
       "      <th>2</th>\n",
       "      <td>0.734478</td>\n",
       "      <td>0.797428</td>\n",
       "      <td>0.227879</td>\n",
       "      <td>-0.797842</td>\n",
       "      <td>1.643168</td>\n",
       "      <td>0.321938</td>\n",
       "      <td>0.037959</td>\n",
       "      <td>0.667914</td>\n",
       "      <td>-0.678793</td>\n",
       "      <td>0</td>\n",
       "    </tr>\n",
       "    <tr>\n",
       "      <th>3</th>\n",
       "      <td>1.625328</td>\n",
       "      <td>-0.686944</td>\n",
       "      <td>-0.931831</td>\n",
       "      <td>1.534381</td>\n",
       "      <td>0.235838</td>\n",
       "      <td>0.324873</td>\n",
       "      <td>-0.387924</td>\n",
       "      <td>1.622065</td>\n",
       "      <td>0.037313</td>\n",
       "      <td>0</td>\n",
       "    </tr>\n",
       "    <tr>\n",
       "      <th>4</th>\n",
       "      <td>0.327866</td>\n",
       "      <td>-0.814359</td>\n",
       "      <td>-0.081658</td>\n",
       "      <td>-1.963746</td>\n",
       "      <td>0.842916</td>\n",
       "      <td>0.020957</td>\n",
       "      <td>-0.555569</td>\n",
       "      <td>-0.630906</td>\n",
       "      <td>-1.424817</td>\n",
       "      <td>0</td>\n",
       "    </tr>\n",
       "  </tbody>\n",
       "</table>\n",
       "</div>\n",
       "      <button class=\"colab-df-convert\" onclick=\"convertToInteractive('df-1acf7eff-1176-4b2f-9bc2-4b1cecd3a972')\"\n",
       "              title=\"Convert this dataframe to an interactive table.\"\n",
       "              style=\"display:none;\">\n",
       "        \n",
       "  <svg xmlns=\"http://www.w3.org/2000/svg\" height=\"24px\"viewBox=\"0 0 24 24\"\n",
       "       width=\"24px\">\n",
       "    <path d=\"M0 0h24v24H0V0z\" fill=\"none\"/>\n",
       "    <path d=\"M18.56 5.44l.94 2.06.94-2.06 2.06-.94-2.06-.94-.94-2.06-.94 2.06-2.06.94zm-11 1L8.5 8.5l.94-2.06 2.06-.94-2.06-.94L8.5 2.5l-.94 2.06-2.06.94zm10 10l.94 2.06.94-2.06 2.06-.94-2.06-.94-.94-2.06-.94 2.06-2.06.94z\"/><path d=\"M17.41 7.96l-1.37-1.37c-.4-.4-.92-.59-1.43-.59-.52 0-1.04.2-1.43.59L10.3 9.45l-7.72 7.72c-.78.78-.78 2.05 0 2.83L4 21.41c.39.39.9.59 1.41.59.51 0 1.02-.2 1.41-.59l7.78-7.78 2.81-2.81c.8-.78.8-2.07 0-2.86zM5.41 20L4 18.59l7.72-7.72 1.47 1.35L5.41 20z\"/>\n",
       "  </svg>\n",
       "      </button>\n",
       "      \n",
       "  <style>\n",
       "    .colab-df-container {\n",
       "      display:flex;\n",
       "      flex-wrap:wrap;\n",
       "      gap: 12px;\n",
       "    }\n",
       "\n",
       "    .colab-df-convert {\n",
       "      background-color: #E8F0FE;\n",
       "      border: none;\n",
       "      border-radius: 50%;\n",
       "      cursor: pointer;\n",
       "      display: none;\n",
       "      fill: #1967D2;\n",
       "      height: 32px;\n",
       "      padding: 0 0 0 0;\n",
       "      width: 32px;\n",
       "    }\n",
       "\n",
       "    .colab-df-convert:hover {\n",
       "      background-color: #E2EBFA;\n",
       "      box-shadow: 0px 1px 2px rgba(60, 64, 67, 0.3), 0px 1px 3px 1px rgba(60, 64, 67, 0.15);\n",
       "      fill: #174EA6;\n",
       "    }\n",
       "\n",
       "    [theme=dark] .colab-df-convert {\n",
       "      background-color: #3B4455;\n",
       "      fill: #D2E3FC;\n",
       "    }\n",
       "\n",
       "    [theme=dark] .colab-df-convert:hover {\n",
       "      background-color: #434B5C;\n",
       "      box-shadow: 0px 1px 3px 1px rgba(0, 0, 0, 0.15);\n",
       "      filter: drop-shadow(0px 1px 2px rgba(0, 0, 0, 0.3));\n",
       "      fill: #FFFFFF;\n",
       "    }\n",
       "  </style>\n",
       "\n",
       "      <script>\n",
       "        const buttonEl =\n",
       "          document.querySelector('#df-1acf7eff-1176-4b2f-9bc2-4b1cecd3a972 button.colab-df-convert');\n",
       "        buttonEl.style.display =\n",
       "          google.colab.kernel.accessAllowed ? 'block' : 'none';\n",
       "\n",
       "        async function convertToInteractive(key) {\n",
       "          const element = document.querySelector('#df-1acf7eff-1176-4b2f-9bc2-4b1cecd3a972');\n",
       "          const dataTable =\n",
       "            await google.colab.kernel.invokeFunction('convertToInteractive',\n",
       "                                                     [key], {});\n",
       "          if (!dataTable) return;\n",
       "\n",
       "          const docLinkHtml = 'Like what you see? Visit the ' +\n",
       "            '<a target=\"_blank\" href=https://colab.research.google.com/notebooks/data_table.ipynb>data table notebook</a>'\n",
       "            + ' to learn more about interactive tables.';\n",
       "          element.innerHTML = '';\n",
       "          dataTable['output_type'] = 'display_data';\n",
       "          await google.colab.output.renderOutput(dataTable, element);\n",
       "          const docLink = document.createElement('div');\n",
       "          docLink.innerHTML = docLinkHtml;\n",
       "          element.appendChild(docLink);\n",
       "        }\n",
       "      </script>\n",
       "    </div>\n",
       "  </div>\n",
       "  "
      ],
      "text/plain": [
       "          0         1         2         3         4         5         6  \\\n",
       "0  0.140870 -0.828309  0.877221  0.004460 -0.304857  0.643844  0.472671   \n",
       "1  1.486476  1.049867 -0.599440 -1.264213  0.505592  0.686403 -0.873369   \n",
       "2  0.734478  0.797428  0.227879 -0.797842  1.643168  0.321938  0.037959   \n",
       "3  1.625328 -0.686944 -0.931831  1.534381  0.235838  0.324873 -0.387924   \n",
       "4  0.327866 -0.814359 -0.081658 -1.963746  0.842916  0.020957 -0.555569   \n",
       "\n",
       "          7         8  label  \n",
       "0 -1.646125  1.355958      1  \n",
       "1 -0.075847 -2.194637      1  \n",
       "2  0.667914 -0.678793      0  \n",
       "3  1.622065  0.037313      0  \n",
       "4 -0.630906 -1.424817      0  "
      ]
     },
     "execution_count": 17,
     "metadata": {},
     "output_type": "execute_result"
    }
   ],
   "source": [
    "new_df.head()"
   ]
  },
  {
   "cell_type": "code",
   "execution_count": null,
   "metadata": {
    "colab": {
     "base_uri": "https://localhost:8080/"
    },
    "id": "vhQGlsa6aWwc",
    "outputId": "4ac4dae6-a139-4c35-c9b1-52010b9ae4be"
   },
   "outputs": [
    {
     "data": {
      "text/plain": [
       "(1000, 10)"
      ]
     },
     "execution_count": 18,
     "metadata": {},
     "output_type": "execute_result"
    }
   ],
   "source": [
    "new_df.shape"
   ]
  },
  {
   "cell_type": "markdown",
   "metadata": {
    "id": "KX7ykskCX31y"
   },
   "source": [
    "***Save the new dataset***"
   ]
  },
  {
   "cell_type": "code",
   "execution_count": null,
   "metadata": {
    "id": "y3LHxhh-Wr-f"
   },
   "outputs": [],
   "source": [
    "new_df.to_csv('new_data.csv', index=False)"
   ]
  },
  {
   "cell_type": "code",
   "execution_count": null,
   "metadata": {
    "id": "W3J_0zOCe-Wg"
   },
   "outputs": [],
   "source": [
    "# https://towardsdatascience.com/principal-component-analysis-for-dimensionality-reduction-115a3d157bad\n"
   ]
  }
 ],
 "metadata": {
  "colab": {
   "provenance": []
  },
  "kernelspec": {
   "display_name": "Python 3 (ipykernel)",
   "language": "python",
   "name": "python3"
  },
  "language_info": {
   "codemirror_mode": {
    "name": "ipython",
    "version": 3
   },
   "file_extension": ".py",
   "mimetype": "text/x-python",
   "name": "python",
   "nbconvert_exporter": "python",
   "pygments_lexer": "ipython3",
   "version": "3.11.7"
  }
 },
 "nbformat": 4,
 "nbformat_minor": 4
}
